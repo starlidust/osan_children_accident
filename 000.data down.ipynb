{
 "cells": [
  {
   "cell_type": "code",
   "execution_count": 1,
   "metadata": {},
   "outputs": [],
   "source": [
    "from geoband.API import *\n",
    "import os\n",
    "\n",
    "os.makedirs('./data/',exist_ok = True)"
   ]
  },
  {
   "cell_type": "code",
   "execution_count": 2,
   "metadata": {},
   "outputs": [],
   "source": [
    "GetCompasData('SBJ_2012_001', '1', './data/1.오산시_주정차단속(2018~2020).csv')\n",
    "GetCompasData('SBJ_2012_001', '2', './data/2.오산시_어린이교통사고_격자.geojson') #비공개\n",
    "GetCompasData('SBJ_2012_001', '3', './data/3.오산시_차량등록현황_격자.geojson')\n",
    "GetCompasData('SBJ_2012_001', '4', './data/4.오산시_연령별_거주인구격자(총인구).geojson')\n",
    "GetCompasData('SBJ_2012_001', '5', './data/5.오산시_연령별_거주인구격자(유소년).geojson')\n",
    "GetCompasData('SBJ_2012_001', '6', './data/6.오산시_연령별_거주인구격자(생산가능인구).geojson')\n",
    "GetCompasData('SBJ_2012_001', '7', './data/7.오산시_연령별_거주인구격자(고령).geojson')\n",
    "GetCompasData('SBJ_2012_001', '8', './data/8.오산시_유동인구(2019).csv')\n",
    "GetCompasData('SBJ_2012_001', '9', './data/9.오산시_어린이보호구역.csv')\n",
    "GetCompasData('SBJ_2012_001', '10', './data/10.오산시_학교위치정보.csv')\n",
    "GetCompasData('SBJ_2012_001', '11', './data/11.오산시_초등학교_통학구.geojson')\n",
    "GetCompasData('SBJ_2012_001', '12', './data/12.오산시_중학교_학군.geojson')\n",
    "GetCompasData('SBJ_2012_001', '13', './data/13.오산시_어린이집_유치원현황.csv')\n",
    "GetCompasData('SBJ_2012_001', '14', './data/14.오산시_기상데이터(2010~2019).csv')\n",
    "GetCompasData('SBJ_2012_001', '15', './data/15.오산시_무인교통단속카메라.csv')\n",
    "GetCompasData('SBJ_2012_001', '16', './data/16.오산시_도로안전표지표준데이터.csv')\n",
    "GetCompasData('SBJ_2012_001', '17', './data/17.오산시_횡단보도.geojson')\n",
    "GetCompasData('SBJ_2012_001', '18', './data/18.오산시_과속방지턱표준데이터.csv')\n",
    "GetCompasData('SBJ_2012_001', '19', './data/19.오산시_신호등.geojson')\n",
    "GetCompasData('SBJ_2012_001', '20', './data/20.오산시_CCTV설치현황.csv')\n",
    "GetCompasData('SBJ_2012_001', '21', './data/21.오산시_인도.geojson')\n",
    "GetCompasData('SBJ_2012_001', '22', './data/22.오산시_버스정류장.csv')\n",
    "GetCompasData('SBJ_2012_001', '23', './data/23.오산시_상세도로망_LV6.geojson') #비공개\n",
    "GetCompasData('SBJ_2012_001', '24', './data/24.평일_전일,시간대별_오산시_추정교통량_Level6.csv') #비공개\n",
    "GetCompasData('SBJ_2012_001', '25', './data/25.평일_전일_오산시_혼잡빈도강도_Level6.csv') #비공개\n",
    "GetCompasData('SBJ_2012_001', '26', './data/26.평일_전일_오산시_혼잡시간강도_Level6.csv') #비공개\n",
    "GetCompasData('SBJ_2012_001', '27', './data/27.오산시_도로명주소_건물.geojson')\n",
    "GetCompasData('SBJ_2012_001', '28', './data/28.오산시_건물연면적_격자.geojson')\n",
    "GetCompasData('SBJ_2012_001', '29', './data/29.오산시_체육시설현황.csv')\n",
    "GetCompasData('SBJ_2012_001', '30', './data/30.오산시_학원_및_교습소_현황.csv')\n",
    "GetCompasData('SBJ_2012_001', '31', './data/31.오산시_법정경계(시군구).geojson')\n",
    "GetCompasData('SBJ_2012_001', '32', './data/32.오산시_행정경계(읍면동).geojson')\n",
    "GetCompasData('SBJ_2012_001', '33', './data/33.오산시_법정경계(읍면동).geojson')\n",
    "GetCompasData('SBJ_2012_001', '34', './data/34.오산시_지적도.geojson')\n",
    "GetCompasData('SBJ_2012_001', '35', './data/35.코드정의서.xlsx')"
   ]
  }
 ],
 "metadata": {
  "kernelspec": {
   "display_name": "Python 3",
   "language": "python",
   "name": "python3"
  },
  "language_info": {
   "codemirror_mode": {
    "name": "ipython",
    "version": 3
   },
   "file_extension": ".py",
   "mimetype": "text/x-python",
   "name": "python",
   "nbconvert_exporter": "python",
   "pygments_lexer": "ipython3",
   "version": "3.6.5"
  },
  "toc": {
   "base_numbering": 1,
   "nav_menu": {},
   "number_sections": true,
   "sideBar": true,
   "skip_h1_title": false,
   "title_cell": "Table of Contents",
   "title_sidebar": "Contents",
   "toc_cell": false,
   "toc_position": {},
   "toc_section_display": true,
   "toc_window_display": false
  },
  "varInspector": {
   "cols": {
    "lenName": 16,
    "lenType": 16,
    "lenVar": 40
   },
   "kernels_config": {
    "python": {
     "delete_cmd_postfix": "",
     "delete_cmd_prefix": "del ",
     "library": "var_list.py",
     "varRefreshCmd": "print(var_dic_list())"
    },
    "r": {
     "delete_cmd_postfix": ") ",
     "delete_cmd_prefix": "rm(",
     "library": "var_list.r",
     "varRefreshCmd": "cat(var_dic_list()) "
    }
   },
   "types_to_exclude": [
    "module",
    "function",
    "builtin_function_or_method",
    "instance",
    "_Feature"
   ],
   "window_display": false
  }
 },
 "nbformat": 4,
 "nbformat_minor": 2
}
