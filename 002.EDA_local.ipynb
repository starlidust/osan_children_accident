{
 "cells": [
  {
   "cell_type": "code",
   "execution_count": null,
   "metadata": {
    "ExecuteTime": {
     "end_time": "2021-01-04T07:08:25.551312Z",
     "start_time": "2021-01-04T07:08:24.684119Z"
    }
   },
   "outputs": [],
   "source": [
    "import pandas as pd\n",
    "import numpy as np\n",
    "import matplotlib.pyplot as plt\n",
    "import seaborn as sns\n",
    "import geopandas as gpd\n",
    "import os\n",
    "from sklearn.preprocessing import MinMaxScaler\n",
    "\n",
    "from pyproj import CRS\n",
    "import pydeck as pdk\n",
    "import matplotlib.font_manager as fm\n",
    "from sklearn.preprocessing import LabelEncoder\n",
    "fontprop = fm.FontProperties(fname='../font/NanumGothic.ttf', size=10)\n",
    "import random\n",
    "random.seed(42)"
   ]
  },
  {
   "cell_type": "markdown",
   "metadata": {},
   "source": [
    "## data_load"
   ]
  },
  {
   "cell_type": "code",
   "execution_count": null,
   "metadata": {
    "ExecuteTime": {
     "end_time": "2021-01-04T07:45:57.099658Z",
     "start_time": "2021-01-04T07:45:50.281123Z"
    }
   },
   "outputs": [],
   "source": [
    "%%time\n",
    "#딕셔너리에 각 파일 순서대로 load\n",
    "file_list = os.listdir('./data')\n",
    "number = list(map(lambda x : int(x.split('.')[0]),file_list))\n",
    "#local에서도 동일한 순서로 읽어오게끔\n",
    "if 24 not in number:\n",
    "    number = number +[2,8,23,24,25,26]\n",
    "    file_list = file_list + ['','','','','','']\n",
    "file_order = pd.DataFrame({'index':number, 'file_name':file_list})\n",
    "file_order = file_order.sort_values('index')\n",
    "file_order = file_order[:-1]\n",
    "files = {}\n",
    "for i,file in enumerate(file_order['file_name']):\n",
    "    if len(file)>0:\n",
    "        try :\n",
    "            files[i] = pd.read_csv(f'./data/{file}')\n",
    "        except : \n",
    "            files[i] = gpd.read_file(f'./data/{file}')"
   ]
  },
  {
   "cell_type": "code",
   "execution_count": null,
   "metadata": {
    "ExecuteTime": {
     "end_time": "2021-01-04T07:08:33.008992Z",
     "start_time": "2021-01-04T07:08:33.004990Z"
    }
   },
   "outputs": [],
   "source": [
    "mapbox_key = 'pk.eyJ1IjoibGFpcjA4MjYiLCJhIjoiY2tkcGoxcnRzMDZvODJxbXk0MWhlcWN2aSJ9.5-yjt_SUq4w5JII7CvD4cA'\n",
    "map_center = [127.07377,37.14885] #오산시 중심\n",
    "view_states = pdk.ViewState(longitude=map_center[0],\n",
    "                          latitude = map_center[1],\n",
    "                           zoom = 12)\n",
    "os.makedirs('./output/',exist_ok = True)"
   ]
  },
  {
   "cell_type": "code",
   "execution_count": null,
   "metadata": {
    "ExecuteTime": {
     "end_time": "2021-01-04T07:08:33.423085Z",
     "start_time": "2021-01-04T07:08:33.413084Z"
    }
   },
   "outputs": [],
   "source": [
    "def add_coordinates(data):\n",
    "    '''geodataframe에서 중점 coordinates로 컬럼 생성\n",
    "    '''\n",
    "    from shapely.geometry import Polygon,MultiLineString,LineString,MultiPolygon\n",
    "    #coord_center\n",
    "    temp = data.copy()\n",
    "    coord_center = temp.geometry.apply(lambda geo : [geo.centroid.x, geo.centroid.y])\n",
    "    temp['coord_center'] = coord_center\n",
    "    \n",
    "    #coordinates type별로 조금씩 차이가 있음\n",
    "    type_mls = type(MultiLineString())\n",
    "    type_ls = type(LineString())\n",
    "    type_poly = type(Polygon())\n",
    "    type_mpoly = type(MultiPolygon())\n",
    "    def get_coordinates(x):\n",
    "        if type(x) == type_mls: \n",
    "            lon,lat = x[0].xy\n",
    "        elif type(x) == type_ls:\n",
    "            lon,lat = x.xy\n",
    "        elif type(x) == type_poly:\n",
    "            lon,lat = x.exterior.xy\n",
    "        else :\n",
    "            lon, lat = x[0].exterior.xy        \n",
    "        return [[x, y] for x, y in zip(lon, lat)]\n",
    "    \n",
    "    temp['coordinates'] = temp.geometry.apply(lambda geo : get_coordinates(geo))\n",
    "    \n",
    "    return temp\n",
    "\n",
    "def add_minmax(data,col):\n",
    "    '''minmax scale 추가\n",
    "    '''\n",
    "    from sklearn.preprocessing import MinMaxScaler\n",
    "    scaler = MinMaxScaler()\n",
    "    temp = data.copy()\n",
    "    values = scaler.fit_transform(temp[col].values.reshape(-1,1))\n",
    "    temp['minmax_value'] = values\n",
    "    \n",
    "    return temp\n",
    "\n",
    "def merge_to_grid(value_df,merged_df, col_name,lon = 'lon', lat = 'lat',):\n",
    "    '''value_df가 merge_df포함되는 갯수를 체크하고 merge진행. \n",
    "    GeoDataFrame인 경우 point 생성부분은 pass\n",
    "    ----\n",
    "    return \n",
    "    value_df가 merge_df가 join된 df\n",
    "    '''\n",
    "    type_gpd = type(gpd.GeoDataFrame())\n",
    "    if 'gid' in value_df.columns:\n",
    "        value_df = value_df.rename(columns={'gid':'gid1'})\n",
    "    \n",
    "    if type(value_df) != type_gpd:\n",
    "        value_df['geometry'] = value_df.apply(lambda x : make_Point(x[lon],x[lat]),axis= 1)\n",
    "        value_df = gpd.GeoDataFrame(value_df)\n",
    "        value_df.crs = CRS('epsg:4326')\n",
    "\n",
    "    joined = gpd.sjoin(merged_df,value_df, how = 'left')\n",
    "    if col_name not in joined.columns:\n",
    "        joined.loc[~(joined['index_right'].isna()),col_name] = 1\n",
    "    joined[col_name] = joined[col_name].fillna(0)\n",
    "\n",
    "    joined = joined.groupby('gid')[col_name].sum().reset_index()\n",
    "    \n",
    "    return joined\n",
    "\n",
    "def draw_hist(data,col,title):\n",
    "    '''data를 넣으면 histogram을 그려주고, 0 or NaN 없는 df 리턴\n",
    "    \n",
    "    '''\n",
    "    temp = data.copy()\n",
    "    temp = add_coordinates(temp[~((temp[col]==0)|(temp[col].isna()))])\n",
    "    plt.hist(temp[col])\n",
    "    plt.title(title,fontproperties = fontprop, fontsize= 15)\n",
    "    plt.box(False)\n",
    "    plt.savefig(f'./output/{title}.png',bbox_inches='tight')\n",
    "    plt.show()\n",
    "    return temp\n",
    "\n",
    "def make_Point(x,y):\n",
    "    from shapely.geometry import Point\n",
    "    '''x,y좌표값이 있으면, 합쳐서 Point로 만듬\n",
    "    '''\n",
    "    return Point(x,y)\n",
    "\n",
    "def move_df(main_df,merged_df, s_time, l_time, col_name):\n",
    "    '''\n",
    "    main_df(df) : 유동인구 df\n",
    "    merged_df(df) : 합칠 df, ex) 어린이교통사고_df\n",
    "    s_time(int) : 유동인구 시작시간\n",
    "    l_time(int) : 유동인구 끝 시간\n",
    "    col_name(string) : 저장 colmn 이름\n",
    "    \n",
    "    -----\n",
    "    return \n",
    "    merged_df에 분할시간대 유동인구의 평균값 컬럼생성\n",
    "    '''\n",
    "    temp = main_df\n",
    "    #stack형태로 변경\n",
    "    melted = pd.melt(temp, id_vars = ['STD_YM','lon','lat'],var_name = 'time')\n",
    "    melted.time = melted.time.apply(lambda x : int(x[-2:]))\n",
    "    \n",
    "    #필요한 시간대로 분할\n",
    "    grouped = melted.groupby(['lon','lat','time'])['value'].sum().reset_index()\n",
    "    grouped_cut = grouped[(grouped.time>=s_time)&(grouped.time<=l_time)]\n",
    "    \n",
    "    #point생성\n",
    "\n",
    "    grouped_cut = grouped_cut.groupby(['lon','lat'])['value'].sum().reset_index()\n",
    "    grouped_cut['geometry'] = grouped_cut.apply(lambda x : make_Point(x['lon'],x['lat']),axis= 1)\n",
    "    \n",
    "    #geo dataframe화 \n",
    "    geo_df = gpd.GeoDataFrame(grouped_cut)\n",
    "    geo_df.crs = CRS('epsg:4326')\n",
    "    \n",
    "    #merge_df와 결합\n",
    "    joined = gpd.sjoin(files[1],geo_df, how = 'left', op = 'intersects')\n",
    "    joined['value'] = joined['value'].fillna(0)\n",
    "    joined_g = joined.groupby('gid')['value'].mean()\n",
    "    joined_g.name = col_name\n",
    "    joined_g = joined_g.reset_index()\n",
    "    moved = files[1].merge(joined_g,how = 'left')\n",
    "    \n",
    "    return moved"
   ]
  },
  {
   "cell_type": "markdown",
   "metadata": {},
   "source": [
    "## EDA"
   ]
  },
  {
   "cell_type": "markdown",
   "metadata": {},
   "source": [
    "### 1. 주정차단속"
   ]
  },
  {
   "cell_type": "code",
   "execution_count": null,
   "metadata": {
    "ExecuteTime": {
     "end_time": "2021-01-04T08:13:15.696362Z",
     "start_time": "2021-01-04T08:13:15.688362Z"
    },
    "scrolled": true
   },
   "outputs": [],
   "source": [
    "files[0].head(3)"
   ]
  },
  {
   "cell_type": "code",
   "execution_count": null,
   "metadata": {
    "ExecuteTime": {
     "end_time": "2021-01-04T07:08:38.940328Z",
     "start_time": "2021-01-04T07:08:36.223717Z"
    }
   },
   "outputs": [],
   "source": [
    "layer = pdk.Layer(type = \"ScatterplotLayer\",\n",
    "                  data = files[0],\n",
    "                  get_position = 'coordinates',\n",
    "                  get_radius=3,\n",
    "                  get_fill_color=[255, 140, 0],\n",
    "                  filled=True,\n",
    "                  pickable=True,\n",
    "                  opacity=0.8)\n",
    "\n",
    "r = pdk.Deck(layers =[layer], \n",
    "             initial_view_state = view_states,\n",
    "             map_style='mapbox://styles/mapbox/outdoors-v11',\n",
    "             mapbox_key= mapbox_key)\n",
    "r.to_html(\"./output/주정차단속_scatter.html\")"
   ]
  },
  {
   "cell_type": "code",
   "execution_count": null,
   "metadata": {
    "ExecuteTime": {
     "end_time": "2021-01-04T07:13:03.974211Z",
     "start_time": "2021-01-04T07:13:03.964206Z"
    },
    "scrolled": true
   },
   "outputs": [],
   "source": [
    "#특정지역에서 주정차단속이 많음\n",
    "files[0]['단속위치'].value_counts().head(10)"
   ]
  },
  {
   "cell_type": "code",
   "execution_count": null,
   "metadata": {
    "ExecuteTime": {
     "end_time": "2021-01-04T07:14:47.960561Z",
     "start_time": "2021-01-04T07:14:47.498456Z"
    }
   },
   "outputs": [],
   "source": [
    "#상위 5개 시간대별 증감 확인\n",
    "#단속횟수가 많은 상위 5개 지역은 연간 감소추세이나, 2020-04월 다소 증가 \n",
    "files[0]['YYYYMM'] = files[0]['단속일자'].apply(lambda x: str(x)[:6])\n",
    "top5 =files[0]['단속위치'].value_counts().head(5).index.values\n",
    "\n",
    "top5_df = files[0][files[0]['단속위치'].isin(top5)]\n",
    "counted = top5_df.groupby(['단속위치','YYYYMM'])['행정구역'].count()\n",
    "counted.name = '횟수'\n",
    "counted = counted.reset_index()\n",
    "counted['YYYYMM'] = pd.to_datetime(counted['YYYYMM']+'01',format = '%Y%m%d')\n",
    "\n",
    "plt.figure(figsize = (10,5))\n",
    "sns.lineplot(x = 'YYYYMM',y = '횟수', hue ='단속위치',data = counted)\n",
    "plt.title('상위5개 지역 월별 단속횟수', fontproperties=fontprop,fontsize= 15)\n",
    "plt.ylabel('횟수', fontproperties=fontprop, fontsize= 13)\n",
    "plt.xlabel('연월',fontproperties=fontprop, fontsize= 13)\n",
    "plt.xticks(rotation = 45)\n",
    "plt.legend(prop = fontprop, bbox_to_anchor = (1,0.5),loc = 'center left',frameon=False,fontsize= 12)\n",
    "plt.grid(linestyle  = '--')\n",
    "plt.box(False)\n",
    "plt.savefig('./output/상위5개 지역월별 단속횟수.png',bbox_inches='tight')\n",
    "plt.show()"
   ]
  },
  {
   "cell_type": "code",
   "execution_count": null,
   "metadata": {
    "ExecuteTime": {
     "end_time": "2021-01-04T07:14:50.130048Z",
     "start_time": "2021-01-04T07:14:49.721957Z"
    }
   },
   "outputs": [],
   "source": [
    "#2020년기준 상위 5개 단속지역\n",
    "top5_2020 = files[0].loc[files[0]['YYYYMM'] > '202010','단속위치'].value_counts().head(5).index.values\n",
    "top5_df = files[0][files[0]['단속위치'].isin(top5_2020)]\n",
    "counted = top5_df.groupby(['단속위치','YYYYMM'])['행정구역'].count()\n",
    "counted.name = '횟수'\n",
    "counted = counted.reset_index()\n",
    "counted['YYYYMM'] = pd.to_datetime(counted['YYYYMM']+'01',format = '%Y%m%d')\n",
    "\n",
    "plt.figure(figsize = (7,5))\n",
    "sns.lineplot(x = 'YYYYMM',y = '횟수', hue ='단속위치',data = counted)\n",
    "plt.title('2020년 상위5개 지역 월별 단속횟수', fontproperties=fontprop,fontsize= 15)\n",
    "plt.ylabel('횟수', fontproperties=fontprop, fontsize= 13)\n",
    "plt.xlabel('연월',fontproperties=fontprop, fontsize= 13)\n",
    "plt.xticks(rotation = 45)\n",
    "plt.legend(prop = fontprop, bbox_to_anchor = (1,0.5),loc = 'center left',frameon=False,fontsize= 12)\n",
    "plt.grid(linestyle  = '--')\n",
    "plt.box(False)\n",
    "plt.savefig('./output/2020년 상위5개 지역 월별 단속횟수.png',bbox_inches='tight')\n",
    "plt.show()"
   ]
  },
  {
   "cell_type": "code",
   "execution_count": null,
   "metadata": {
    "ExecuteTime": {
     "end_time": "2021-01-04T07:14:51.929455Z",
     "start_time": "2021-01-04T07:14:51.907449Z"
    }
   },
   "outputs": [],
   "source": [
    "#단속위치별로 갯수 통합\n",
    "counted = files[0].groupby(['단속위치'])['행정구역'].count()\n",
    "counted.name = '갯수'\n",
    "\n",
    "mean_axis = files[0].groupby(['단속위치'])['단속위치_경도','단속위치_위도'].agg('mean')\n",
    "counted_df = pd.merge(mean_axis,counted,left_index = True, right_index = True).reset_index()"
   ]
  },
  {
   "cell_type": "code",
   "execution_count": null,
   "metadata": {
    "ExecuteTime": {
     "end_time": "2021-01-04T07:14:53.735861Z",
     "start_time": "2021-01-04T07:14:53.702853Z"
    }
   },
   "outputs": [],
   "source": [
    "#줌아웃해서 볼때 개괄적으로 보기 좋음 \n",
    "coordinates = []\n",
    "for i in range(len(counted_df)):\n",
    "    coord = [counted_df['단속위치_경도'][i],counted_df['단속위치_위도'][i]]\n",
    "    coordinates.append(coord)\n",
    "counted_df['coordinates'] = coordinates\n",
    "center = counted_df['coordinates'][0]\n",
    "\n",
    "counted_df = add_minmax(counted_df,'갯수')\n",
    "counted_df['log_갯수'] = np.log1p(counted_df['갯수']) *10\n",
    "\n",
    "bust_layer = pdk.Layer(type = 'ScatterplotLayer',\n",
    "                 data = counted_df,\n",
    "                 get_position = 'coordinates',\n",
    "                 get_radius = 'log_갯수',\n",
    "                 get_fill_color = '[10, 100*minmax_value,200,150]',\n",
    "                 fill = True,\n",
    "                 pickable = True, auto_highlight=True)\n",
    "\n",
    "r = pdk.Deck(layers = [bust_layer],\n",
    "            initial_view_state = view_states,\n",
    "             map_style='mapbox://styles/mapbox/outdoors-v11',\n",
    "            mapbox_key = mapbox_key\n",
    "            )\n",
    "r.to_html(\"./output/주정차단속_scatterplot_group.html\")"
   ]
  },
  {
   "cell_type": "markdown",
   "metadata": {},
   "source": [
    "### 2.어린이교통사고(비공개)"
   ]
  },
  {
   "cell_type": "code",
   "execution_count": null,
   "metadata": {
    "ExecuteTime": {
     "end_time": "2021-01-04T07:35:14.751067Z",
     "start_time": "2021-01-04T07:35:14.744065Z"
    }
   },
   "outputs": [],
   "source": [
    "files[1].head(3)"
   ]
  },
  {
   "cell_type": "code",
   "execution_count": null,
   "metadata": {
    "ExecuteTime": {
     "end_time": "2021-01-04T07:31:50.575590Z",
     "start_time": "2021-01-04T07:31:50.566588Z"
    }
   },
   "outputs": [],
   "source": [
    "f1_over0 = files[1][files[1].accident_cnt >0]\n",
    "f1_over0 = add_coordinates(f1_over0)"
   ]
  },
  {
   "cell_type": "code",
   "execution_count": null,
   "metadata": {
    "ExecuteTime": {
     "end_time": "2021-01-04T07:14:54.930130Z",
     "start_time": "2021-01-04T07:14:51.549Z"
    }
   },
   "outputs": [],
   "source": [
    "#최대 사고 횟수는 10\n",
    "f1_over0.sort_values('accident_cnt',ascending = False).head(5)"
   ]
  },
  {
   "cell_type": "code",
   "execution_count": null,
   "metadata": {},
   "outputs": [],
   "source": [
    "#대부분이 1건이며 최대10건\n",
    "graph = draw_hist(f1_over0,'accident_cnt','사고횟수별분포')"
   ]
  },
  {
   "cell_type": "code",
   "execution_count": null,
   "metadata": {},
   "outputs": [],
   "source": [
    "#주정차 단속과 큰 연관성은\n",
    "f1_over0 = add_minmax(f1_over0, 'accident_cnt')\n",
    "f1_over0['accident_cnt_10'] = f1_over0['accident_cnt'] *10\n",
    "layer = pdk.Layer('PolygonLayer', data = f1_over0,\n",
    "                  pickable= True, auto_highlight=True,\n",
    "                   get_polygon= 'coordinates',\n",
    "                 get_fill_color='[1000*minmax_value, 1 ,1,150]')\n",
    "\n",
    "r = pdk.Deck(layers = [bust_layer,layer],\n",
    "            initial_view_state = view_states,\n",
    "             map_style='mapbox://styles/mapbox/outdoors-v11',\n",
    "            mapbox_key = mapbox_key,\n",
    "             tooltip={\"text\": \"gid:{gid}\\n 어린이교통사고: {accident_cnt}\"}\n",
    "            )\n",
    "r.to_html(\"./output/사고지역분포도_grid.html\")"
   ]
  },
  {
   "cell_type": "code",
   "execution_count": null,
   "metadata": {},
   "outputs": [],
   "source": [
    "f1_over0 = add_minmax(f1_over0, 'accident_cnt')\n",
    "child_acc_layer = pdk.Layer('ScatterplotLayer', data = f1_over0,\n",
    "                  pickable= True, extruded = True, auto_highlight=True,\n",
    "                   get_position= 'coord_center',\n",
    "                  get_radius = 'accident_cnt_10',\n",
    "                 get_fill_color='[255, 300-70*minmax_value,0,150]')\n",
    "\n",
    "r = pdk.Deck(layers = [child_acc_layer],\n",
    "            initial_view_state = view_states,\n",
    "             map_style='mapbox://styles/mapbox/outdoors-v11',\n",
    "            mapbox_key = mapbox_key,\n",
    "             tooltip={\"text\": \"gid:{gid}\\n 사고별횟수: {accident_cnt}\"}\n",
    "            )\n",
    "r.to_html(\"./output/사고지역분포도_scatter.html\")"
   ]
  },
  {
   "cell_type": "markdown",
   "metadata": {},
   "source": [
    "### 3.차량등록_격자"
   ]
  },
  {
   "cell_type": "code",
   "execution_count": null,
   "metadata": {
    "ExecuteTime": {
     "end_time": "2021-01-04T07:42:09.175959Z",
     "start_time": "2021-01-04T07:42:09.167956Z"
    }
   },
   "outputs": [],
   "source": [
    "files[2].head(3)"
   ]
  },
  {
   "cell_type": "code",
   "execution_count": null,
   "metadata": {
    "ExecuteTime": {
     "end_time": "2021-01-04T07:40:20.448189Z",
     "start_time": "2021-01-04T07:40:20.344166Z"
    }
   },
   "outputs": [],
   "source": [
    "f2_over0 = add_coordinates(files[2][files[2]['car_cnt']>0])"
   ]
  },
  {
   "cell_type": "code",
   "execution_count": null,
   "metadata": {
    "ExecuteTime": {
     "end_time": "2021-01-04T07:40:21.728477Z",
     "start_time": "2021-01-04T07:40:21.591446Z"
    }
   },
   "outputs": [],
   "source": [
    "#자동차 등록집중도가 최대 3000까지 \n",
    "ax = plt.boxplot(f2_over0.car_cnt,vert= False)\n",
    "plt.title('자동차대수 분포_box',fontproperties = fontprop, fontsize= 15)\n",
    "plt.yticks([])\n",
    "plt.box(False)\n",
    "plt.savefig('./output/자동차대수분포_box.png',bbox_inches='tight')\n",
    "plt.show()"
   ]
  },
  {
   "cell_type": "code",
   "execution_count": null,
   "metadata": {
    "ExecuteTime": {
     "end_time": "2021-01-04T07:40:24.794168Z",
     "start_time": "2021-01-04T07:40:24.481096Z"
    }
   },
   "outputs": [],
   "source": [
    "graph = draw_hist(f2_over0,'car_cnt','자동차대수분포')"
   ]
  },
  {
   "cell_type": "code",
   "execution_count": null,
   "metadata": {
    "ExecuteTime": {
     "end_time": "2021-01-04T07:40:26.263498Z",
     "start_time": "2021-01-04T07:40:25.913419Z"
    }
   },
   "outputs": [],
   "source": [
    "f2_over0 = add_minmax(f2_over0, 'car_cnt')\n",
    "car_layer = pdk.Layer('PolygonLayer',data= f2_over0,\n",
    "                  get_polygon = 'coordinates',\n",
    "                  get_fill_color = '[1,1000*minmax_value,3000*minmax_value,150]',\n",
    "                 pickable = True, auto_highlight=True)\n",
    "\n",
    "r = pdk.Deck(layers = [car_layer,child_acc_layer],\n",
    "             initial_view_state = view_states,\n",
    "             map_style='mapbox://styles/mapbox/outdoors-v11',\n",
    "             mapbox_key = mapbox_key,\n",
    "             tooltip={\"text\": \"gid:{gid}\\n 자동차대수: {car_cnt}\"})\n",
    "r.to_html('./output/자동차등록_grid.html')"
   ]
  },
  {
   "cell_type": "markdown",
   "metadata": {},
   "source": [
    "### 4.거주격자(총인구)"
   ]
  },
  {
   "cell_type": "code",
   "execution_count": null,
   "metadata": {
    "ExecuteTime": {
     "end_time": "2021-01-04T08:16:42.263905Z",
     "start_time": "2021-01-04T08:16:42.254903Z"
    }
   },
   "outputs": [],
   "source": [
    "files[3].head(3)"
   ]
  },
  {
   "cell_type": "code",
   "execution_count": null,
   "metadata": {
    "ExecuteTime": {
     "end_time": "2021-01-04T07:40:44.837635Z",
     "start_time": "2021-01-04T07:40:44.756616Z"
    }
   },
   "outputs": [],
   "source": [
    "f3_over0 = add_coordinates(files[3][~((files[3].val==0)|(files[3].val.isna()))])"
   ]
  },
  {
   "cell_type": "code",
   "execution_count": null,
   "metadata": {
    "ExecuteTime": {
     "end_time": "2021-01-04T07:40:46.602032Z",
     "start_time": "2021-01-04T07:40:46.187939Z"
    }
   },
   "outputs": [],
   "source": [
    "graph = draw_hist(f3_over0, 'val','총인구 분포')"
   ]
  },
  {
   "cell_type": "code",
   "execution_count": null,
   "metadata": {
    "ExecuteTime": {
     "end_time": "2021-01-04T07:40:48.095368Z",
     "start_time": "2021-01-04T07:40:47.828309Z"
    }
   },
   "outputs": [],
   "source": [
    "#총인구랑은 크게 연관성 없는 듯\n",
    "f3_over0 = add_minmax(f3_over0,'val')\n",
    "t_people_layer = pdk.Layer('PolygonLayer', data = f3_over0,\n",
    "                           get_polygon = 'coordinates',\n",
    "                           get_fill_color = '[1,1000*minmax_value,1,150]',\n",
    "                           pickable= True, auto_highlight=True)\n",
    "\n",
    "r = pdk.Deck(layers =[t_people_layer,child_acc_layer],\n",
    "            initial_view_state = view_states,\n",
    "             map_style='mapbox://styles/mapbox/outdoors-v11',\n",
    "             mapbox_key = mapbox_key,\n",
    "             tooltip={\"text\": \"gid:{gid}\\n 총인구: {val}\"})\n",
    "r.to_html('./output/총인구_grid.html')"
   ]
  },
  {
   "cell_type": "markdown",
   "metadata": {},
   "source": [
    "### 5.유소년인구"
   ]
  },
  {
   "cell_type": "code",
   "execution_count": null,
   "metadata": {
    "ExecuteTime": {
     "end_time": "2021-01-04T08:23:12.339016Z",
     "start_time": "2021-01-04T08:23:12.330014Z"
    }
   },
   "outputs": [],
   "source": [
    "files[4].head(3)"
   ]
  },
  {
   "cell_type": "code",
   "execution_count": null,
   "metadata": {
    "ExecuteTime": {
     "end_time": "2021-01-04T07:41:01.911392Z",
     "start_time": "2021-01-04T07:41:01.623327Z"
    }
   },
   "outputs": [],
   "source": [
    "f4_over0 = add_coordinates(files[4][~((files[4].val==0)|(files[4].val.isna()))])\n",
    "graph = draw_hist(f4_over0, 'val','유소년인구 분포')"
   ]
  },
  {
   "cell_type": "code",
   "execution_count": null,
   "metadata": {
    "ExecuteTime": {
     "end_time": "2021-01-04T07:41:03.351717Z",
     "start_time": "2021-01-04T07:41:03.203683Z"
    }
   },
   "outputs": [],
   "source": [
    "#애들이 사는곳보다 아닌곳에서 사고가 많이 발생\n",
    "f4_over0 = add_minmax(f4_over0,'val')\n",
    "t_people_layer = pdk.Layer('PolygonLayer', data = f4_over0,\n",
    "                           get_polygon = 'coordinates',\n",
    "                           get_fill_color = '[1,1000*minmax_value,1,150]',\n",
    "                           pickable= True, auto_highlight=True)\n",
    "\n",
    "r = pdk.Deck(layers =[t_people_layer,child_acc_layer],\n",
    "            initial_view_state = view_states,\n",
    "             map_style='mapbox://styles/mapbox/outdoors-v11',\n",
    "             mapbox_key = mapbox_key,\n",
    "             tooltip={\"text\": \"gid:{gid}\\n 유소년인구: {val}\"})\n",
    "r.to_html('./output/유소년인구_grid.html')"
   ]
  },
  {
   "cell_type": "markdown",
   "metadata": {},
   "source": [
    "### 6.생산가능인구분포"
   ]
  },
  {
   "cell_type": "code",
   "execution_count": null,
   "metadata": {
    "ExecuteTime": {
     "end_time": "2021-01-04T07:42:31.823058Z",
     "start_time": "2021-01-04T07:42:31.815058Z"
    }
   },
   "outputs": [],
   "source": [
    "files[5].head(3)"
   ]
  },
  {
   "cell_type": "code",
   "execution_count": null,
   "metadata": {
    "ExecuteTime": {
     "end_time": "2021-01-04T07:41:04.676015Z",
     "start_time": "2021-01-04T07:41:04.383950Z"
    },
    "scrolled": true
   },
   "outputs": [],
   "source": [
    "f5_over0 = draw_hist(files[5],'val','생산가능인구 분포')"
   ]
  },
  {
   "cell_type": "code",
   "execution_count": null,
   "metadata": {
    "ExecuteTime": {
     "end_time": "2021-01-04T07:41:06.000314Z",
     "start_time": "2021-01-04T07:41:05.990311Z"
    }
   },
   "outputs": [],
   "source": [
    "f5_over0.head(2)"
   ]
  },
  {
   "cell_type": "code",
   "execution_count": null,
   "metadata": {
    "ExecuteTime": {
     "end_time": "2021-01-04T07:41:07.540659Z",
     "start_time": "2021-01-04T07:41:07.292605Z"
    }
   },
   "outputs": [],
   "source": [
    "#애들이 사는곳보다 아닌곳에서 사고가 많이 발생\n",
    "f5_over0 = add_minmax(f5_over0,'val')\n",
    "t_people_layer = pdk.Layer('PolygonLayer', data = f5_over0,\n",
    "                           get_polygon = 'coordinates',\n",
    "                           get_fill_color = '[1,1000*minmax_value,1]',\n",
    "                           pickable= True, auto_highlight=True)\n",
    "\n",
    "r = pdk.Deck(layers =[t_people_layer,child_acc_layer],\n",
    "            initial_view_state = view_states,\n",
    "             map_style='mapbox://styles/mapbox/outdoors-v11',\n",
    "             mapbox_key = mapbox_key,\n",
    "             tooltip={\"text\": \"gid:{gid}\\n 생산가능인구: {val}\"})\n",
    "r.to_html('./output/생산가능인구_grid.html')"
   ]
  },
  {
   "cell_type": "markdown",
   "metadata": {},
   "source": [
    "### 고령"
   ]
  },
  {
   "cell_type": "code",
   "execution_count": null,
   "metadata": {
    "ExecuteTime": {
     "end_time": "2021-01-04T07:43:46.203961Z",
     "start_time": "2021-01-04T07:43:46.195959Z"
    },
    "scrolled": true
   },
   "outputs": [],
   "source": [
    "files[6].head(3)"
   ]
  },
  {
   "cell_type": "code",
   "execution_count": null,
   "metadata": {},
   "outputs": [],
   "source": [
    "f6_over0 = draw_hist(files[6],'val','고령인구 분포')"
   ]
  },
  {
   "cell_type": "code",
   "execution_count": null,
   "metadata": {},
   "outputs": [],
   "source": [
    "f6_over0.head(2)"
   ]
  },
  {
   "cell_type": "code",
   "execution_count": null,
   "metadata": {},
   "outputs": [],
   "source": [
    "#애들이 사는곳보다 아닌곳에서 사고가 많이 발생\n",
    "f6_over0 = add_minmax(f6_over0,'val')\n",
    "t_people_layer = pdk.Layer('PolygonLayer', data = f6_over0,\n",
    "                           get_polygon = 'coordinates',\n",
    "                           get_fill_color = '[1,1000*minmax_value,1,150]',\n",
    "                           pickable= True, auto_highlight=True)\n",
    "\n",
    "r = pdk.Deck(layers =[t_people_layer,child_acc_layer],\n",
    "            initial_view_state = view_states,\n",
    "             map_style='mapbox://styles/mapbox/outdoors-v11',\n",
    "             mapbox_key = mapbox_key,\n",
    "             tooltip={\"text\": \"gid:{gid}\\n 고령인구: {val}\"})\n",
    "r.to_html('./output/고령인구_grid.html')"
   ]
  },
  {
   "cell_type": "markdown",
   "metadata": {},
   "source": [
    "### 8.유동인구(비공개)"
   ]
  },
  {
   "cell_type": "markdown",
   "metadata": {},
   "source": [
    "#### 월별 합계"
   ]
  },
  {
   "cell_type": "code",
   "execution_count": null,
   "metadata": {},
   "outputs": [],
   "source": [
    "files[7].head(3)"
   ]
  },
  {
   "cell_type": "code",
   "execution_count": null,
   "metadata": {
    "ExecuteTime": {
     "end_time": "2021-01-04T07:46:09.704496Z",
     "start_time": "2021-01-04T07:46:09.696495Z"
    }
   },
   "outputs": [],
   "source": [
    "f7_melted = pd.melt(files[7], id_vars = ['STD_YM','lon','lat'],var_name = 'time')\n",
    "f7_melted.time = f7_melted.time.apply(lambda x : int(x[-2:]))"
   ]
  },
  {
   "cell_type": "code",
   "execution_count": null,
   "metadata": {},
   "outputs": [],
   "source": [
    "f7_melted"
   ]
  },
  {
   "cell_type": "code",
   "execution_count": null,
   "metadata": {},
   "outputs": [],
   "source": [
    "#전체 유동인구가 여름철에는 7월, 겨울철에는 1월에 급감 \n",
    "f7_g_month = f7_melted.groupby('STD_YM')['value'].sum()\n",
    "plt.plot(f7_g_month)\n",
    "plt.xticks(f7_g_month.index, range(1,13))\n",
    "plt.title('오산시 월별 유동인구수',fontproperties = fontprop, size= 15)\n",
    "plt.box(False)\n",
    "plt.grid(linestyle = '-',color= 'lightgray')\n",
    "plt.savefig('./output/오산시 월별 유동인구수.png',bbox_inches='tight')\n",
    "plt.show()"
   ]
  },
  {
   "cell_type": "code",
   "execution_count": null,
   "metadata": {},
   "outputs": [],
   "source": [
    "#출근시간의 유동인구가 퇴근시간의 유동인구보다 낮음\n",
    "f7_g_time = f7_melted.groupby('time')['value'].sum()\n",
    "plt.plot(f7_g_time)\n",
    "plt.xticks(f7_g_time.index, range(1,25))\n",
    "plt.title('오산시 시간별 유동인구수',fontproperties = fontprop, size= 15)\n",
    "plt.box(False)\n",
    "plt.grid(linestyle = '-',color= 'lightgray')\n",
    "plt.savefig('./output/오산시 시간별 유동인구수.png',bbox_inches='tight')\n",
    "plt.show()"
   ]
  },
  {
   "cell_type": "code",
   "execution_count": null,
   "metadata": {},
   "outputs": [],
   "source": [
    "#각 월별로 패턴이 달라지진 않음\n",
    "f7_g_time = f7_melted.groupby(['STD_YM','time'])['value'].sum()\n",
    "f7_g_time = f7_g_time.reset_index()\n",
    "sns.lineplot(x = 'time', y= 'value', hue= 'STD_YM', data= f7_g_time,palette='tab20')\n",
    "plt.xticks(range(1,25), range(1,25))\n",
    "plt.title('오산시 시간별,각월 유동인구수',fontproperties = fontprop, size= 15)\n",
    "plt.box(False)\n",
    "plt.grid(linestyle = '-',color= 'lightgray')\n",
    "plt.legend(bbox_to_anchor = (1,1))\n",
    "plt.savefig('./output/오산시 시간별,각월 유동인구수.png',bbox_inches='tight')\n",
    "plt.show()"
   ]
  },
  {
   "cell_type": "markdown",
   "metadata": {},
   "source": [
    "#### grid단위로 통합\n",
    "* Point에 buffer 적용후 grid하는 방법은 아직 잘 모르겠음 (buffer의 단위가 미확실)"
   ]
  },
  {
   "cell_type": "markdown",
   "metadata": {},
   "source": [
    "#### 7-9시 시각화"
   ]
  },
  {
   "cell_type": "code",
   "execution_count": null,
   "metadata": {},
   "outputs": [],
   "source": [
    "moved7_9_df = move_df(files[7],files[1],7,9,'moved7_9')\n",
    "\n",
    "moved7_9_df = moved7_9_df[moved7_9_df['moved7_9'] != 0]\n",
    "\n",
    "moved7_9_df = add_coordinates(moved7_9_df)\n",
    "moved7_9_df = add_minmax(moved7_9_df,'moved7_9')\n",
    "\n",
    "m7_9_layer = pdk.Layer('PolygonLayer', data = moved7_9_df,\n",
    "                       get_polygon = 'coordinates',\n",
    "                       get_fill_color = '[1,1,1000*minmax_value,150]',\n",
    "                       pickable = True,\n",
    "                       auto_highlight = True)\n",
    "r = pdk.Deck(layers= [m7_9_layer,child_acc_layer],\n",
    "            initial_view_state=view_states,\n",
    "             map_style='mapbox://styles/mapbox/outdoors-v11',\n",
    "             mapbox_key = mapbox_key,\n",
    "             tooltip={\"text\": \"gid:{gid}\\n 7_9시유동인구: {moved7_9}\"})\n",
    "r.to_html('./output/7_9(출근시간)유동인구.html')      \n",
    "                   "
   ]
  },
  {
   "cell_type": "code",
   "execution_count": null,
   "metadata": {},
   "outputs": [],
   "source": [
    "moved16_18_df = move_df(files[7],files[1],16,18,'moved16_18')\n",
    "\n",
    "moved16_18_df = moved16_18_df[moved16_18_df['moved16_18'] != 0]\n",
    "\n",
    "moved16_18_df = add_coordinates(moved16_18_df)\n",
    "moved16_18_df = add_minmax(moved16_18_df,'moved16_18')"
   ]
  },
  {
   "cell_type": "markdown",
   "metadata": {},
   "source": [
    "#### 16-18시 시각화"
   ]
  },
  {
   "cell_type": "code",
   "execution_count": null,
   "metadata": {},
   "outputs": [],
   "source": [
    "moved16_18_df = move_df(files[7],files[1],16,18,'moved16_18')\n",
    "\n",
    "moved16_18_df = moved16_18_df[moved16_18_df['moved16_18'] != 0]\n",
    "\n",
    "moved16_18_df = add_coordinates(moved16_18_df)\n",
    "moved16_18_df = add_minmax(moved16_18_df,'moved16_18')\n",
    "\n",
    "m16_18_layer = pdk.Layer('PolygonLayer', data = moved16_18_df,\n",
    "                       get_polygon = 'coordinates',\n",
    "                       get_fill_color = '[1,1,1000*minmax_value,150]',\n",
    "                       pickable = True,\n",
    "                       auto_highlight = True)\n",
    "r = pdk.Deck(layers= [m16_18_layer,child_acc_layer],\n",
    "            initial_view_state=view_states,\n",
    "             map_style='mapbox://styles/mapbox/outdoors-v11',\n",
    "             mapbox_key = mapbox_key,\n",
    "             tooltip={\"text\": \"gid:{gid}\\n 16_18시유동인구: {moved16_18}\\n accident_cnt: {accident_cnt}\"})\n",
    "r.to_html('./output/16_18(퇴근시간)유동인구.html')      "
   ]
  },
  {
   "cell_type": "markdown",
   "metadata": {},
   "source": [
    "### 어린이보호구역\n",
    "* 정의 : 어린이 보호구역이란 초등학교 및 유치원, 어린이집, 학원 등 만 13세 미만 어린이시설 **주변도로** 중 일정구간을 보호구역으로 지정하여 교통안전시설물 및 도로부속물 설치로 어린이들의 안전한 통학공간을 확보하여 교통사고를 예방하기 위한 제도이며 스쿨존(School Zone)이라고도 한다.[도로교통공단]('https://www.koroad.or.kr/kp_web/trafficWeakPersonSafeZone3.do')\n",
    "* 단순좌표, grid에 넣고 그 grid가 어린이 보호구역임을 확인하는게 맞을듯 하다\n",
    "-> 건물용도정보 가져와서 학교 polygon따야할듯"
   ]
  },
  {
   "cell_type": "code",
   "execution_count": null,
   "metadata": {},
   "outputs": [],
   "source": [
    "files[8].shape"
   ]
  },
  {
   "cell_type": "code",
   "execution_count": null,
   "metadata": {
    "ExecuteTime": {
     "end_time": "2021-01-04T07:47:05.030624Z",
     "start_time": "2021-01-04T07:47:05.022622Z"
    }
   },
   "outputs": [],
   "source": [
    "files[8].head(3)"
   ]
  },
  {
   "cell_type": "code",
   "execution_count": null,
   "metadata": {},
   "outputs": [],
   "source": [
    "files[8].시설종류.value_counts()"
   ]
  },
  {
   "cell_type": "code",
   "execution_count": null,
   "metadata": {
    "ExecuteTime": {
     "end_time": "2021-01-04T07:46:57.491926Z",
     "start_time": "2021-01-04T07:46:57.486926Z"
    }
   },
   "outputs": [],
   "source": [
    "#데이터오류 해결\n",
    "files[8].loc[(files[8]['CCTV설치여부']== 'N')&(files[8]['CCTV설치대수']>0),'CCTV설치여부'] = 'Y'"
   ]
  },
  {
   "cell_type": "code",
   "execution_count": null,
   "metadata": {
    "ExecuteTime": {
     "end_time": "2021-01-04T07:47:08.862487Z",
     "start_time": "2021-01-04T07:47:08.837482Z"
    }
   },
   "outputs": [],
   "source": [
    "#초등학교에 CCTV가 많은편 \n",
    "files[8].pivot_table(index= '시설종류',columns= 'CCTV설치여부',values = 'CCTV설치대수',aggfunc= ['count','sum'])"
   ]
  },
  {
   "cell_type": "code",
   "execution_count": null,
   "metadata": {
    "ExecuteTime": {
     "end_time": "2021-01-04T07:47:15.259927Z",
     "start_time": "2021-01-04T07:47:15.254926Z"
    }
   },
   "outputs": [],
   "source": [
    "from sklearn.preprocessing import LabelEncoder\n",
    "encoder = LabelEncoder()\n",
    "files[8]['시설_label'] = encoder.fit_transform(files[8]['시설종류'])"
   ]
  },
  {
   "cell_type": "code",
   "execution_count": null,
   "metadata": {},
   "outputs": [],
   "source": [
    "files[8] = pd.DataFrame(files[8])"
   ]
  },
  {
   "cell_type": "code",
   "execution_count": null,
   "metadata": {},
   "outputs": [],
   "source": [
    "safe_zone_layer = pdk.Layer('ScatterplotLayer', data = files[8],\n",
    "                           get_position = ['보호구역_경도','보호구역_위도'],\n",
    "                           get_radius = 10,\n",
    "                            get_fill_color = '[255,50,200*시설_label,100]',\n",
    "                           pickable = True, auto_highlight = True)\n",
    "r = pdk.Deck(layers = [safe_zone_layer],\n",
    "            initial_view_state = view_states,\n",
    "            map_style = 'mapbox://styles/mapbox/outdoors-v11',\n",
    "            mapbox_key = mapbox_key,\n",
    "            tooltip = {'text':'시설종류:{시설종류}\\nCCTV설치대수:{CCTV설치대수}'})\n",
    "r.to_html(\"./output/안전구역위치_버퍼 300.html\")"
   ]
  },
  {
   "cell_type": "code",
   "execution_count": null,
   "metadata": {
    "ExecuteTime": {
     "end_time": "2021-01-04T07:47:25.456223Z",
     "start_time": "2021-01-04T07:47:25.443220Z"
    }
   },
   "outputs": [],
   "source": [
    "#https://deck.gl/docs/api-reference/layers/scatterplot-layer\n",
    "#radius unit meter\n",
    "safe_zone_layer = pdk.Layer('ScatterplotLayer', data = files[8],\n",
    "                           get_position = ['보호구역_경도','보호구역_위도'],\n",
    "                           get_radius = 300,\n",
    "                            get_fill_color = '[255,50,200*시설_label,50]',\n",
    "                           pickable = True, auto_highlight = True)\n",
    "r = pdk.Deck(layers = [safe_zone_layer,child_acc_layer],\n",
    "            initial_view_state = view_states,\n",
    "            map_style = 'mapbox://styles/mapbox/outdoors-v11',\n",
    "            mapbox_key = mapbox_key,\n",
    "            tooltip = {'text':'시설종류:{시설종류}\\nCCTV설치대수:{CCTV설치대수}\\n사고횟수:{accident_cnt}'})\n",
    "r.to_html(\"./output/안전구역위치_버퍼 300.html\")"
   ]
  },
  {
   "cell_type": "markdown",
   "metadata": {},
   "source": [
    "#### point buffer\n",
    "* 버퍼에 따른 미터단위로 변환은 가능하나, pydeck에는 겹치므로 그림이 안그려지는 것으로 추정됨 "
   ]
  },
  {
   "cell_type": "code",
   "execution_count": null,
   "metadata": {},
   "outputs": [],
   "source": [
    "files[8]['point'] = files[8].apply(lambda x : make_Point(x['보호구역_경도'], x['보호구역_위도']),axis= 1)"
   ]
  },
  {
   "cell_type": "code",
   "execution_count": null,
   "metadata": {},
   "outputs": [],
   "source": [
    "#미터참고\n",
    "#https://gis.stackexchange.com/questions/80881/what-is-unit-of-shapely-length-attribute \n",
    "files[8]['geometry'] = files[8]['point'].apply(lambda x : x.buffer(0.00247745741629065))\n",
    "f8 = gpd.GeoDataFrame(files[8])\n",
    "f8.crs = CRS('EPSG:4326')"
   ]
  },
  {
   "cell_type": "code",
   "execution_count": null,
   "metadata": {},
   "outputs": [],
   "source": [
    "from shapely.geometry import LineString\n",
    "from shapely.ops import transform\n",
    "from functools import partial\n",
    "import pyproj\n",
    "\n",
    "line1 = LineString([(15.8, 40.0), (16.8,40.0)])\n",
    "print(str(line1.length) + \" degrees\")\n",
    "# 0.0115488362184 degrees\n",
    "\n",
    "# Geometry transform function based on pyproj.transform\n",
    "project = partial(\n",
    "    pyproj.transform,\n",
    "    pyproj.Proj('EPSG:4326'),\n",
    "    pyproj.Proj('EPSG:32633'))\n",
    "\n",
    "line2 = transform(project, line1)\n",
    "print(str(line2.length) + \" meters\")\n",
    "# 1021.77585965 meters"
   ]
  },
  {
   "cell_type": "code",
   "execution_count": null,
   "metadata": {},
   "outputs": [],
   "source": [
    "joined = merge_to_grid(f8,files[1],col_name = '어린이안전구역')\n",
    "merged_df = files[1].merge(joined, how= 'left')"
   ]
  },
  {
   "cell_type": "code",
   "execution_count": null,
   "metadata": {},
   "outputs": [],
   "source": [
    "merged_df[merged_df['어린이안전구역']>0]"
   ]
  },
  {
   "cell_type": "markdown",
   "metadata": {},
   "source": [
    "### 학교위치정보\n",
    "* 지적도에서 지목 -학교로 확인가능할듯 함. intersect도 지목polygon으로 진행필요"
   ]
  },
  {
   "cell_type": "code",
   "execution_count": null,
   "metadata": {
    "ExecuteTime": {
     "end_time": "2021-01-04T07:56:52.122792Z",
     "start_time": "2021-01-04T07:56:52.115790Z"
    },
    "scrolled": true
   },
   "outputs": [],
   "source": [
    "files[9].head(2)"
   ]
  },
  {
   "cell_type": "markdown",
   "metadata": {},
   "source": [
    "### 초등학교 통학구\n",
    "* 오산전지역에 해당. 공통이 의미가 있다면 필요할듯 "
   ]
  },
  {
   "cell_type": "code",
   "execution_count": null,
   "metadata": {
    "ExecuteTime": {
     "end_time": "2021-01-04T08:25:14.163509Z",
     "start_time": "2021-01-04T08:25:14.151508Z"
    }
   },
   "outputs": [],
   "source": [
    "files[10].head(3)"
   ]
  },
  {
   "cell_type": "code",
   "execution_count": null,
   "metadata": {
    "ExecuteTime": {
     "end_time": "2021-01-04T08:05:02.650108Z",
     "start_time": "2021-01-04T08:05:02.579094Z"
    }
   },
   "outputs": [],
   "source": [
    "temp = add_coordinates(files[10])\n",
    "ele_school = files[9][files[9]['학교명'].apply(lambda x : '초등' in x)]\n",
    "ele_schoolzone_layer = pdk.Layer('PolygonLayer', data = temp,\n",
    "                           get_polygon = 'coordinates',\n",
    "                            get_fill_color = '[10,100,150,150]',\n",
    "                           pickable = True, auto_highlight = True)\n",
    "ele_school_layer = pdk.Layer('ScatterplotLayer', data = ele_school,\n",
    "                            get_position = ['학교위치_경도','학교위치_위도'],\n",
    "                            get_radius = 30,\n",
    "                            get_fill_color = [200, 100,100],\n",
    "                            pickable = True, auto_highlight = True)                      \n",
    "r = pdk.Deck(layers = [ele_schoolzone_layer,ele_school_layer],\n",
    "            initial_view_state = view_states,\n",
    "            map_style = 'mapbox://styles/mapbox/outdoors-v11',\n",
    "            mapbox_key = mapbox_key)\n",
    "#             tooltip = {'text':'단속구분:{단속구분}}'})\n",
    "r.to_html(\"./output/초등학교통학구.html\")"
   ]
  },
  {
   "cell_type": "markdown",
   "metadata": {},
   "source": [
    "### 중학교 통학구\n",
    "* 오산밖까지 해당... 어떻게쓰나..?"
   ]
  },
  {
   "cell_type": "code",
   "execution_count": null,
   "metadata": {
    "ExecuteTime": {
     "end_time": "2021-01-04T08:25:28.505035Z",
     "start_time": "2021-01-04T08:25:28.487031Z"
    }
   },
   "outputs": [],
   "source": [
    "files[11].head(3)"
   ]
  },
  {
   "cell_type": "code",
   "execution_count": null,
   "metadata": {
    "ExecuteTime": {
     "end_time": "2021-01-04T08:09:41.444907Z",
     "start_time": "2021-01-04T08:09:41.018810Z"
    }
   },
   "outputs": [],
   "source": [
    "temp = add_coordinates(files[11])\n",
    "mid_school = files[9][files[9]['학교명'].apply(lambda x : '중등' in x)]\n",
    "mid_schoolzone_layer = pdk.Layer('PolygonLayer', data = temp,\n",
    "                           get_polygon = 'coordinates',\n",
    "                            get_fill_color = '[10,100,150,150]',\n",
    "                           pickable = True, auto_highlight = True)\n",
    "mid_school_layer = pdk.Layer('ScatterplotLayer', data = ele_school,\n",
    "                            get_position = ['학교위치_경도','학교위치_위도'],\n",
    "                            get_radius = 30,\n",
    "                            get_fill_color = [200, 100,100],\n",
    "                            pickable = True, auto_highlight = True)                      \n",
    "r = pdk.Deck(layers = [mid_schoolzone_layer,mid_school_layer],\n",
    "            initial_view_state = view_states,\n",
    "            map_style = 'mapbox://styles/mapbox/outdoors-v11',\n",
    "            mapbox_key = mapbox_key)\n",
    "#             tooltip = {'text':'단속구분:{단속구분}}'})\n",
    "r.to_html(\"./output/중학교통학구.html\")"
   ]
  },
  {
   "cell_type": "markdown",
   "metadata": {},
   "source": [
    "### 유치원현황"
   ]
  },
  {
   "cell_type": "code",
   "execution_count": null,
   "metadata": {
    "ExecuteTime": {
     "end_time": "2021-01-04T08:25:44.286232Z",
     "start_time": "2021-01-04T08:25:44.279230Z"
    }
   },
   "outputs": [],
   "source": [
    "files[12].head(3)"
   ]
  },
  {
   "cell_type": "code",
   "execution_count": null,
   "metadata": {
    "ExecuteTime": {
     "end_time": "2021-01-04T08:10:31.799268Z",
     "start_time": "2021-01-04T08:10:31.789266Z"
    }
   },
   "outputs": [],
   "source": [
    "joined = merge_to_grid(files[12],files[1], '유치원수', lon = '시설위치_경도',lat = '시설위치_위도')\n",
    "merged_df = merged_df.merge(joined,how = 'left')"
   ]
  },
  {
   "cell_type": "code",
   "execution_count": null,
   "metadata": {
    "ExecuteTime": {
     "end_time": "2021-01-04T08:10:31.802269Z",
     "start_time": "2021-01-04T08:10:30.857Z"
    }
   },
   "outputs": [],
   "source": [
    "#학원밀집지역과 사고지역과 연관성이 있는듯 \n",
    "temp = merged_df[merged_df['유치원수']>0]\n",
    "temp = add_coordinates(temp)\n",
    "temp = add_minmax(temp,'유치원수')\n",
    "cross_layer = pdk.Layer('PolygonLayer', data = temp,\n",
    "                           get_polygon = 'coordinates',\n",
    "                            get_fill_color = '[10,255-200*minmax_value,10,150]',\n",
    "                           pickable = True, auto_highlight = True)\n",
    "r = pdk.Deck(layers = [cross_layer,child_acc_layer],\n",
    "            initial_view_state = view_states,\n",
    "            map_style = 'mapbox://styles/mapbox/outdoors-v11',\n",
    "            mapbox_key = mapbox_key)\n",
    "#             tooltip = {'text':'단속구분:{단속구분}}'})\n",
    "r.to_html(\"./output/유치원수.html\")"
   ]
  },
  {
   "cell_type": "markdown",
   "metadata": {},
   "source": [
    "### 기상데이터\n",
    "* 10~19년... 사용할방법이 딱히 보이지 않음"
   ]
  },
  {
   "cell_type": "code",
   "execution_count": null,
   "metadata": {
    "ExecuteTime": {
     "end_time": "2021-01-04T08:11:40.794629Z",
     "start_time": "2021-01-04T08:11:40.785635Z"
    }
   },
   "outputs": [],
   "source": [
    "files[13].head(3)"
   ]
  },
  {
   "cell_type": "code",
   "execution_count": null,
   "metadata": {},
   "outputs": [],
   "source": [
    "files[13]['일시'] = pd.to_datetime(files[13]['일시'],format='%Y/%m/%d')"
   ]
  },
  {
   "cell_type": "code",
   "execution_count": null,
   "metadata": {},
   "outputs": [],
   "source": [
    "#특이사항 없는듯 \n",
    "plt.plot(files[13]['일시'],files[13]['평균기온(°C)'])\n",
    "plt.box(False)\n",
    "plt.savefig('./output/연도별 기상.png',bbox_inches='tight')\n",
    "plt.show()"
   ]
  },
  {
   "cell_type": "markdown",
   "metadata": {},
   "source": [
    "### 무인단속카메라"
   ]
  },
  {
   "cell_type": "code",
   "execution_count": null,
   "metadata": {
    "ExecuteTime": {
     "end_time": "2021-01-04T08:11:35.137355Z",
     "start_time": "2021-01-04T08:11:35.129354Z"
    }
   },
   "outputs": [],
   "source": [
    "files[14].head(3)"
   ]
  },
  {
   "cell_type": "code",
   "execution_count": null,
   "metadata": {
    "ExecuteTime": {
     "end_time": "2021-01-04T08:11:31.103447Z",
     "start_time": "2021-01-04T08:11:31.092445Z"
    }
   },
   "outputs": [],
   "source": [
    "camera_layer = pdk.Layer('ScatterplotLayer', data = files[14],\n",
    "                           get_position = ['설치위치_경도','설치위치_위도'],\n",
    "                           get_radius = 30,\n",
    "                            get_fill_color = '[250,10,10,150]',\n",
    "                           pickable = True, auto_highlight = True)\n",
    "r = pdk.Deck(layers = [camera_layer,child_acc_layer],\n",
    "            initial_view_state = view_states,\n",
    "            map_style = 'mapbox://styles/mapbox/outdoors-v11',\n",
    "            mapbox_key = mapbox_key)\n",
    "#             tooltip = {'text':'단속구분:{단속구분}}'}\n",
    "r.to_html(\"./output/무인단속카메라.html\")"
   ]
  },
  {
   "cell_type": "markdown",
   "metadata": {},
   "source": [
    "### 도로안전표지표준데이터\n",
    "* 다양한 종류가 있음. 대분류로 나눠야할까? - 규제표지는 없는거같음"
   ]
  },
  {
   "cell_type": "code",
   "execution_count": null,
   "metadata": {
    "ExecuteTime": {
     "end_time": "2021-01-04T08:11:54.943815Z",
     "start_time": "2021-01-04T08:11:54.935814Z"
    }
   },
   "outputs": [],
   "source": [
    "files[15].head(3)"
   ]
  },
  {
   "cell_type": "code",
   "execution_count": null,
   "metadata": {
    "ExecuteTime": {
     "end_time": "2021-01-04T08:12:00.323026Z",
     "start_time": "2021-01-04T08:12:00.318025Z"
    }
   },
   "outputs": [],
   "source": [
    "files[15]['표지종별'].unique()"
   ]
  },
  {
   "cell_type": "code",
   "execution_count": null,
   "metadata": {
    "ExecuteTime": {
     "end_time": "2021-01-04T08:12:05.542202Z",
     "start_time": "2021-01-04T08:12:05.534200Z"
    }
   },
   "outputs": [],
   "source": [
    "joined = merge_to_grid(files[15],files[1], '표지판수')\n",
    "merged_df = files[1].merge(joined,how = 'left')"
   ]
  },
  {
   "cell_type": "code",
   "execution_count": null,
   "metadata": {},
   "outputs": [],
   "source": [
    "f15 = merged_df[merged_df['표지판수']>0]\n",
    "f15 = add_coordinates(f15)\n",
    "sign_layer = pdk.Layer('PolygonLayer', data = f15,\n",
    "                           get_polygon = 'coordinates',\n",
    "                            get_fill_color = '[10,100*표지판수,200,150]',\n",
    "                           pickable = True, auto_highlight = True)\n",
    "r = pdk.Deck(layers = [sign_layer],\n",
    "            initial_view_state = view_states,\n",
    "            map_style = 'mapbox://styles/mapbox/outdoors-v11',\n",
    "            mapbox_key = mapbox_key)\n",
    "#             tooltip = {'text':'단속구분:{단속구분}}'})\n",
    "r.to_html(\"./output/도로안전표지.html\")"
   ]
  },
  {
   "cell_type": "code",
   "execution_count": null,
   "metadata": {},
   "outputs": [],
   "source": [
    "sign_layer = pdk.Layer('ScatterplotLayer', data = files[15],\n",
    "                           get_position = ['lon','lat'],\n",
    "                           get_radius = 10,\n",
    "                            get_fill_color = '[10,10,200,150]',\n",
    "                           pickable = True, auto_highlight = True)\n",
    "r = pdk.Deck(layers = [sign_layer],\n",
    "            initial_view_state = view_states,\n",
    "            map_style = 'mapbox://styles/mapbox/outdoors-v11',\n",
    "            mapbox_key = mapbox_key)\n",
    "#             tooltip = {'text':'단속구분:{단속구분}}'})\n",
    "r.to_html(\"./output/도로안전표지_scatter.html\")"
   ]
  },
  {
   "cell_type": "markdown",
   "metadata": {},
   "source": [
    "### 횡단보도"
   ]
  },
  {
   "cell_type": "code",
   "execution_count": null,
   "metadata": {
    "ExecuteTime": {
     "end_time": "2021-01-04T08:12:15.385418Z",
     "start_time": "2021-01-04T08:12:15.377417Z"
    }
   },
   "outputs": [],
   "source": [
    "files[16].head(3)"
   ]
  },
  {
   "cell_type": "code",
   "execution_count": null,
   "metadata": {},
   "outputs": [],
   "source": [
    "joined = merge_to_grid(files[16],files[1],'횡단보도수')\n",
    "merged_df = merged_df.merge(joined,how = 'left')"
   ]
  },
  {
   "cell_type": "code",
   "execution_count": null,
   "metadata": {},
   "outputs": [],
   "source": [
    "#횡단보도가 있는 곳에서 사고가 있는편\n",
    "temp = merged_df[merged_df['횡단보도수']>0]\n",
    "temp = add_coordinates(temp)\n",
    "cross_layer = pdk.Layer('PolygonLayer', data = temp,\n",
    "                           get_polygon = 'coordinates',\n",
    "                            get_fill_color = '[10,100*횡단보도수,200,150]',\n",
    "                           pickable = True, auto_highlight = True)\n",
    "r = pdk.Deck(layers = [cross_layer,child_acc_layer],\n",
    "            initial_view_state = view_states,\n",
    "            map_style = 'mapbox://styles/mapbox/outdoors-v11',\n",
    "            mapbox_key = mapbox_key)\n",
    "#             tooltip = {'text':'단속구분:{단속구분}}'})\n",
    "r.to_html(\"./output/횡단보도.html\")"
   ]
  },
  {
   "cell_type": "markdown",
   "metadata": {},
   "source": [
    "### 과속방지턱\n",
    "* 보차분리 : 보행자의 안전과 생활 환경의 보호는 물론, 교통 소통을 원활하게 할 목적으로 보행자의 보행 공간과 차량의 주행 공간이 물리적으로 구분된 상태"
   ]
  },
  {
   "cell_type": "code",
   "execution_count": null,
   "metadata": {
    "ExecuteTime": {
     "end_time": "2021-01-04T08:12:32.608296Z",
     "start_time": "2021-01-04T08:12:32.598294Z"
    }
   },
   "outputs": [],
   "source": [
    "files[17].head(3)"
   ]
  },
  {
   "cell_type": "code",
   "execution_count": null,
   "metadata": {},
   "outputs": [],
   "source": [
    "joined = merge_to_grid(files[17],files[1],'과속방지턱수',lon = '설치위치_경도',lat = '설치위치_위도')\n",
    "merged_df = merged_df.merge(joined,how = 'left')"
   ]
  },
  {
   "cell_type": "code",
   "execution_count": null,
   "metadata": {},
   "outputs": [],
   "source": [
    "#과속방지턱 데이터가 적어서 그런지 연관성이 높아보지이 않음 \n",
    "temp = merged_df[merged_df['과속방지턱수']>0]\n",
    "temp = add_coordinates(temp)\n",
    "cross_layer = pdk.Layer('PolygonLayer', data = temp,\n",
    "                           get_polygon = 'coordinates',\n",
    "                            get_fill_color = '[10,100*과속방지턱수,200,150]',\n",
    "                           pickable = True, auto_highlight = True)\n",
    "r = pdk.Deck(layers = [cross_layer,child_acc_layer],\n",
    "            initial_view_state = view_states,\n",
    "            map_style = 'mapbox://styles/mapbox/outdoors-v11',\n",
    "            mapbox_key = mapbox_key)\n",
    "#             tooltip = {'text':'단속구분:{단속구분}}'})\n",
    "r.to_html(\"./output/과속방지턱.html\")"
   ]
  },
  {
   "cell_type": "markdown",
   "metadata": {},
   "source": [
    "### 신호등"
   ]
  },
  {
   "cell_type": "code",
   "execution_count": null,
   "metadata": {
    "ExecuteTime": {
     "end_time": "2021-01-04T08:28:43.173444Z",
     "start_time": "2021-01-04T08:28:43.165442Z"
    }
   },
   "outputs": [],
   "source": [
    "files[18].head(3)"
   ]
  },
  {
   "cell_type": "code",
   "execution_count": null,
   "metadata": {},
   "outputs": [],
   "source": [
    "joined = merge_to_grid(files[18],files[1],'신호등수')\n",
    "merged_df = merged_df.merge(joined,how = 'left')\n",
    "#신호등없는데서 사고가 꽤 있는듯\n",
    "temp = merged_df[merged_df['신호등수']>0]\n",
    "temp = add_coordinates(temp)\n",
    "cross_layer = pdk.Layer('PolygonLayer', data = temp,\n",
    "                           get_polygon = 'coordinates',\n",
    "                            get_fill_color = '[10,100*신호등수,200,150]',\n",
    "                           pickable = True, auto_highlight = True)\n",
    "r = pdk.Deck(layers = [cross_layer,child_acc_layer],\n",
    "            initial_view_state = view_states,\n",
    "            map_style = 'mapbox://styles/mapbox/outdoors-v11',\n",
    "            mapbox_key = mapbox_key)\n",
    "#             tooltip = {'text':'단속구분:{단속구분}}'})\n",
    "r.to_html(\"./output/신호등.html\")"
   ]
  },
  {
   "cell_type": "markdown",
   "metadata": {},
   "source": [
    "### CCTV설치현황\n",
    "* A - 방범, B - 도시공원, C-어린이보호, D-차량방법, E-과속단속\n",
    "* 과속단속관련이 꽤 적은편"
   ]
  },
  {
   "cell_type": "code",
   "execution_count": null,
   "metadata": {
    "ExecuteTime": {
     "end_time": "2021-01-04T08:28:58.214040Z",
     "start_time": "2021-01-04T08:28:58.207038Z"
    }
   },
   "outputs": [],
   "source": [
    "files[19].head(3)"
   ]
  },
  {
   "cell_type": "code",
   "execution_count": null,
   "metadata": {},
   "outputs": [],
   "source": [
    "files[19]['CCTV 유형코드'].value_counts()"
   ]
  },
  {
   "cell_type": "code",
   "execution_count": null,
   "metadata": {},
   "outputs": [],
   "source": [
    "joined = merge_to_grid(files[19].iloc[:-1,:],files[1],'CCTV수',lon = '설치위치_경도',lat= '설치위치_위도')\n",
    "merged_df = merged_df.merge(joined,how = 'left')\n",
    "#CCTV없는데서 사고가 높다\n",
    "temp = merged_df[merged_df['CCTV수']>0]\n",
    "temp = add_coordinates(temp)\n",
    "cross_layer = pdk.Layer('PolygonLayer', data = temp,\n",
    "                           get_polygon = 'coordinates',\n",
    "                            get_fill_color = '[10,100*CCTV수,200,150]',\n",
    "                           pickable = True, auto_highlight = True)\n",
    "r = pdk.Deck(layers = [cross_layer,child_acc_layer],\n",
    "            initial_view_state = view_states,\n",
    "            map_style = 'mapbox://styles/mapbox/outdoors-v11',\n",
    "            mapbox_key = mapbox_key)\n",
    "#             tooltip = {'text':'단속구분:{단속구분}}'})\n",
    "r.to_html(\"./output/CCTV현황.html\")"
   ]
  },
  {
   "cell_type": "markdown",
   "metadata": {},
   "source": [
    "### 인도\n",
    "* 도로.. 다소 없는 곳이 있음(실제로 있는데 없음) \n",
    "* QUAL(인도재질) : 0-미분류, 1-아스콘, 2-콘크리트 3-블록, 4-비포장, 5-아스콘/블록, 999-기타\n",
    "* BYYN(자전거도로) : 0-미분류, 1-유, 2-무\n",
    "* KIND(인도종류) : 0-미분류, 1-인도, 2-자전거도로"
   ]
  },
  {
   "cell_type": "code",
   "execution_count": null,
   "metadata": {
    "ExecuteTime": {
     "end_time": "2021-01-04T08:29:53.710683Z",
     "start_time": "2021-01-04T08:29:53.701681Z"
    }
   },
   "outputs": [],
   "source": [
    "files[20].head(3)"
   ]
  },
  {
   "cell_type": "code",
   "execution_count": null,
   "metadata": {},
   "outputs": [],
   "source": [
    "files[20]['UFID'].apply(lambda x : x[3:-3]).value_counts()"
   ]
  },
  {
   "cell_type": "code",
   "execution_count": null,
   "metadata": {},
   "outputs": [],
   "source": [
    "files[20].plot()"
   ]
  },
  {
   "cell_type": "code",
   "execution_count": null,
   "metadata": {
    "ExecuteTime": {
     "end_time": "2021-01-04T08:30:12.330461Z",
     "start_time": "2021-01-04T08:30:12.325460Z"
    }
   },
   "outputs": [],
   "source": [
    "# 큰의미없을듯\n",
    "files[20].QUAL.value_counts()"
   ]
  },
  {
   "cell_type": "code",
   "execution_count": null,
   "metadata": {
    "ExecuteTime": {
     "end_time": "2021-01-04T08:30:32.964108Z",
     "start_time": "2021-01-04T08:30:32.958106Z"
    }
   },
   "outputs": [],
   "source": [
    "#미분류없이 자전거/인도로만 분류됨\n",
    "files[20].BYYN.value_counts(dropna=False)"
   ]
  },
  {
   "cell_type": "code",
   "execution_count": null,
   "metadata": {
    "ExecuteTime": {
     "end_time": "2021-01-04T08:30:35.458669Z",
     "start_time": "2021-01-04T08:30:35.445666Z"
    }
   },
   "outputs": [],
   "source": [
    "bike_df = files[20][files[20].BYYN == 'BYC001']\n",
    "walk_df = files[20][files[20].BYYN == 'BYC002']\n",
    "\n",
    "joined = merge_to_grid(walk_df,files[1],'인도수')\n",
    "merged_df = merged_df.merge(joined,how = 'left')\n",
    "\n",
    "joined = merge_to_grid(bike_df,files[1],'자전거도로수')\n",
    "merged_df = merged_df.merge(joined,how = 'left')"
   ]
  },
  {
   "cell_type": "code",
   "execution_count": null,
   "metadata": {},
   "outputs": [],
   "source": [
    "bike_df"
   ]
  },
  {
   "cell_type": "code",
   "execution_count": null,
   "metadata": {},
   "outputs": [],
   "source": [
    "#CCTV없는데서 사고가 높다\n",
    "# temp = merged_df[merged_df['CCTV수']>0]\n",
    "temp1 = walk_df\n",
    "temp1 = add_coordinates(temp1)\n",
    "walk_layer = pdk.Layer('PathLayer', data = temp1,\n",
    "                        get_path = 'coordinates',\n",
    "                        get_width = 10,\n",
    "                        get_color = '[10,100,200,150]',\n",
    "                        pickable = True, auto_highlight = True)\n",
    "temp2 = bike_df\n",
    "temp2 = add_coordinates(temp2)\n",
    "\n",
    "bike_layer = pdk.Layer('PathLayer', data = temp2,\n",
    "                        get_path = 'coordinates',\n",
    "                        get_width = 10,\n",
    "                        get_color = '[10,200,100,150]',\n",
    "                        pickable = True, auto_highlight = True)\n",
    "\n",
    "r = pdk.Deck(layers = [bike_layer,walk_layer,child_acc_layer],\n",
    "            initial_view_state = view_states,\n",
    "            map_style = 'mapbox://styles/mapbox/outdoors-v11',\n",
    "            mapbox_key = mapbox_key)\n",
    "#             tooltip = {'text':'단속구분:{단속구분}}'})\n",
    "r.to_html(\"./output/인도.html\")"
   ]
  },
  {
   "cell_type": "markdown",
   "metadata": {},
   "source": [
    "### 버스정류장"
   ]
  },
  {
   "cell_type": "code",
   "execution_count": null,
   "metadata": {
    "ExecuteTime": {
     "end_time": "2021-01-04T08:30:59.803849Z",
     "start_time": "2021-01-04T08:30:59.797848Z"
    }
   },
   "outputs": [],
   "source": [
    "files[21].head(3)"
   ]
  },
  {
   "cell_type": "code",
   "execution_count": null,
   "metadata": {},
   "outputs": [],
   "source": [
    "joined = merge_to_grid(files[21],files[1],'버스정류장수',lon = '정류장 위치_경도',lat = '정류장 위치_위도')\n",
    "merged_df = merged_df.merge(joined,how = 'left')"
   ]
  },
  {
   "cell_type": "code",
   "execution_count": null,
   "metadata": {},
   "outputs": [],
   "source": [
    "#버스정류장 연관성없음\n",
    "temp = merged_df[merged_df['버스정류장수']>0]\n",
    "temp = add_coordinates(temp)\n",
    "cross_layer = pdk.Layer('PolygonLayer', data = temp,\n",
    "                           get_polygon = 'coordinates',\n",
    "                            get_fill_color = '[10,100*버스정류장수,200,150]',\n",
    "                           pickable = True, auto_highlight = True)\n",
    "r = pdk.Deck(layers = [cross_layer,child_acc_layer],\n",
    "            initial_view_state = view_states,\n",
    "            map_style = 'mapbox://styles/mapbox/outdoors-v11',\n",
    "            mapbox_key = mapbox_key)\n",
    "#             tooltip = {'text':'단속구분:{단속구분}}'})\n",
    "r.to_html(\"./output/버스정류장.html\")"
   ]
  },
  {
   "cell_type": "markdown",
   "metadata": {},
   "source": [
    "### 상세도로망(비공개)\n",
    "* road_no(도로등급) : 101-고속국도 102-도시고속국도 103-일반국도, 104-특별광역시도 105-국가지원지방도 106-지방도 107-시군구 108-고속도로 연결램프\n",
    "* link_type(링크종별) : 1-본선분리 2-연결로"
   ]
  },
  {
   "cell_type": "code",
   "execution_count": null,
   "metadata": {
    "ExecuteTime": {
     "end_time": "2021-01-04T08:32:08.212993Z",
     "start_time": "2021-01-04T08:32:08.205991Z"
    }
   },
   "outputs": [],
   "source": [
    "files[22].head(3)"
   ]
  },
  {
   "cell_type": "code",
   "execution_count": null,
   "metadata": {},
   "outputs": [],
   "source": [
    "#600개가 결측...\n",
    "files[22]['max_speed'].value_counts()"
   ]
  },
  {
   "cell_type": "code",
   "execution_count": null,
   "metadata": {},
   "outputs": [],
   "source": [
    "temp = add_coordinates(files[22])\n",
    "temp['width'] = temp['width'].astype(int)\n",
    "temp['width_10'] = temp['width']*10\n",
    "temp = add_minmax(temp, 'max_speed')\n",
    "cross_layer = pdk.Layer('PathLayer', data = temp,\n",
    "                        get_path = 'coordinates',\n",
    "                        get_width = 'width_10',\n",
    "                        get_color = '[255, 255-200*minmax_value,10,150]',\n",
    "                        pickable = True, auto_highlight = True)\n",
    "r = pdk.Deck(layers = [cross_layer],\n",
    "            initial_view_state = view_states,\n",
    "            map_style = 'mapbox://styles/mapbox/outdoors-v11',\n",
    "            mapbox_key = mapbox_key)\n",
    "#             tooltip = {'text':'단속구분:{단속구분}}'})\n",
    "r.to_html(\"./output/도로.html\")"
   ]
  },
  {
   "cell_type": "code",
   "execution_count": null,
   "metadata": {},
   "outputs": [],
   "source": [
    "temp = add_coordinates(files[22])\n",
    "temp['width'] = temp['width'].astype(int)\n",
    "temp['width_10'] = temp['width']*10\n",
    "temp = add_minmax(temp, 'max_speed')\n",
    "cross_layer = pdk.Layer('PathLayer', data = temp,\n",
    "                        get_path = 'coordinates',\n",
    "                        get_width = 'width_10',\n",
    "                        get_color = '[10, 255-250*minmax_value,100,150]',\n",
    "                        pickable = True, auto_highlight = True)\n",
    "r = pdk.Deck(layers = [safe_zone_layer,child_acc_layer,cross_layer],\n",
    "            initial_view_state = view_states,\n",
    "            map_style = 'mapbox://styles/mapbox/outdoors-v11',\n",
    "            mapbox_key = mapbox_key,\n",
    "            tooltip = {'text':'최고속도:{max_speed},사고횟수:{accident_cnt}'})\n",
    "r.to_html(\"./output/도로+안전구역.html\")"
   ]
  },
  {
   "cell_type": "markdown",
   "metadata": {},
   "source": [
    "### 추정교통량(비공개)"
   ]
  },
  {
   "cell_type": "code",
   "execution_count": null,
   "metadata": {},
   "outputs": [],
   "source": [
    "files[23].head(3)"
   ]
  },
  {
   "cell_type": "code",
   "execution_count": null,
   "metadata": {},
   "outputs": [],
   "source": [
    "files[23]['link_id'] = files[23]['상세도로망_LinkID'].apply(lambda x : str(x)[:-2])"
   ]
  },
  {
   "cell_type": "code",
   "execution_count": null,
   "metadata": {},
   "outputs": [],
   "source": [
    "f23_gt = files[23][files[23]['시간적범위'] != '전일']\n",
    "\n",
    "f23_gt['시간적범위'] = f23_gt['시간적범위'].astype(int)\n",
    "f23_gt = f23_gt.groupby(['시간적범위'])['전체 추정교통량', '승용차 추정교통량', '버스 추정교통량', '화물차 추정교통량'].sum().reset_index()\n",
    "f23_m = pd.melt(f23_gt,id_vars = '시간적범위')\n",
    "sns.lineplot(x= '시간적범위', y = 'value', hue = 'variable', data = f23_m)\n",
    "plt.title('전 도로 시간대별 교통량',fontproperties = fontprop, fontsize= 15)\n",
    "plt.xlabel('시간대',fontproperties=fontprop, fontsize= 13)\n",
    "plt.legend(prop = fontprop, bbox_to_anchor = (1,0.5),loc = 'center left',frameon=False,fontsize= 12)\n",
    "plt.grid(linestyle  = '--')\n",
    "plt.savefig('./output/전 도로 시간대별 교통량.png',bbox_inches='tight')\n",
    "plt.box(False)\n",
    "plt.show()"
   ]
  },
  {
   "cell_type": "markdown",
   "metadata": {},
   "source": [
    "#### merge방법"
   ]
  },
  {
   "cell_type": "code",
   "execution_count": null,
   "metadata": {},
   "outputs": [],
   "source": [
    "#stack형태로 변경\n",
    "melted = pd.melt(files[23], id_vars = ['link_id','시간적범위'],var_name = 'time')\n",
    "# melted.time = melted.time.apply(lambda x : int(x[-2:]))"
   ]
  },
  {
   "cell_type": "code",
   "execution_count": null,
   "metadata": {},
   "outputs": [],
   "source": [
    "s_time = 7\n",
    "l_time = 9\n",
    "\n",
    "#시간범위 설정\n",
    "f23 = files[23][['link_id','시간적범위','전체 추정교통량', '승용차 추정교통량', '버스 추정교통량', '화물차 추정교통량']]\n",
    "f23 = f23[f23['시간적범위'] != '전일']\n",
    "f23.시간적범위 = f23.시간적범위.astype(int)\n",
    "melted = pd.melt(f23, id_vars = ['link_id','시간적범위'])\n",
    "\n",
    "f23_time_cut = f23[(f23.시간적범위>=s_time)&(f23.시간적범위<=l_time)]\n",
    "f23_time_cut = f23_time_cut.groupby('link_id')['전체 추정교통량', '승용차 추정교통량', '버스 추정교통량', '화물차 추정교통량'].sum().reset_index()\n",
    "\n",
    "#컬럼이름 재설정\n",
    "rename_ls = []\n",
    "for i, col in enumerate(f23_time_cut.columns):\n",
    "    if i> 0:\n",
    "        new_name = col + f'{s_time}_{l_time}'\n",
    "        rename_ls.append(new_name)\n",
    "    else :\n",
    "        new_name = col\n",
    "        rename_ls.append(new_name)\n",
    "\n",
    "f23_time_cut.columns = rename_ls\n",
    "\n",
    "#intersect and merge\n",
    "road_merged = files[22][['link_id','geometry']].merge(f23_time_cut,how = 'left')\n",
    "temp = gpd.sjoin(merged_df[['gid','geometry']],road_merged)\n",
    "temp = temp.groupby('gid')[rename_ls].mean().reset_index()\n",
    "merged_df = merged_df.merge(temp,how = 'left')\n",
    "merged_df = merged_df.fillna(0)"
   ]
  },
  {
   "cell_type": "code",
   "execution_count": null,
   "metadata": {},
   "outputs": [],
   "source": [
    "#주요도로 위주로 교통량 높음. 고속도로는 제외해야할수도 있음 \n",
    "temp = merged_df[merged_df['전체 추정교통량7_9']>0]\n",
    "temp = add_coordinates(temp)\n",
    "temp = add_minmax(temp,'전체 추정교통량7_9')\n",
    "cross_layer = pdk.Layer('PolygonLayer', data = temp,\n",
    "                           get_polygon = 'coordinates',\n",
    "                            get_fill_color = '[1000*minmax_value,10,10,150]',\n",
    "                           pickable = True, auto_highlight = True)\n",
    "r = pdk.Deck(layers = [cross_layer,child_acc_layer],\n",
    "            initial_view_state = view_states,\n",
    "            map_style = 'mapbox://styles/mapbox/outdoors-v11',\n",
    "            mapbox_key = mapbox_key)\n",
    "#             tooltip = {'text':'단속구분:{단속구분}}'})\n",
    "r.to_html(\"./output/전체 추정교통량7_9_grid.html\")"
   ]
  },
  {
   "cell_type": "code",
   "execution_count": null,
   "metadata": {},
   "outputs": [],
   "source": [
    "files[23]['link_id'] = files[23]['상세도로망_LinkID'].apply(lambda x : str(x)[:-2])\n",
    "f23_gt = files[23][files[23]['시간적범위'] == '전일']\n",
    "\n",
    "f23_gt = f23_gt.groupby(['link_id'])['전체 추정교통량', '승용차 추정교통량', '버스 추정교통량', '화물차 추정교통량'].sum().reset_index()\n",
    "road_merged = files[22].merge(f23_gt,how = 'left')\n",
    "road_merged = road_merged.fillna(0)"
   ]
  },
  {
   "cell_type": "code",
   "execution_count": null,
   "metadata": {},
   "outputs": [],
   "source": [
    "temp = add_coordinates(road_merged)\n",
    "temp['width'] = temp['width'].astype(int)\n",
    "temp['width_10'] = temp['width']*10\n",
    "temp = add_minmax(temp, '전체 추정교통량')\n",
    "cross_layer = pdk.Layer('PathLayer', data = temp,\n",
    "                        get_path = 'coordinates',\n",
    "                        get_width = 'width_10',\n",
    "                        get_color = '[255, 255-200*minmax_value,,10]',\n",
    "                        pickable = True, auto_highlight = True)\n",
    "r = pdk.Deck(layers = [cross_layer,child_acc_layer],\n",
    "            initial_view_state = view_states,\n",
    "            map_style = 'mapbox://styles/mapbox/outdoors-v11',\n",
    "            mapbox_key = mapbox_key,\n",
    "            tooltip = {'text':'전체 추정교통량:{전체 추정교통량}\\n승용차 추정교통량:{승용차 추정교통량}\\n버스 추정교통량:{버스 추정교통량}\\n화물차 추정교통량:{화물차 추정교통량}\\n accident_cnt: {accident_cnt}'})\n",
    "r.to_html(\"./output/추정교통량.html\")"
   ]
  },
  {
   "cell_type": "markdown",
   "metadata": {},
   "source": [
    "### 혼잡빈도강도(비공개)"
   ]
  },
  {
   "cell_type": "code",
   "execution_count": null,
   "metadata": {},
   "outputs": [],
   "source": [
    "files[24].head(3)"
   ]
  },
  {
   "cell_type": "code",
   "execution_count": null,
   "metadata": {},
   "outputs": [],
   "source": [
    "#intersect and merge\n",
    "files[24]['link_id'] = files[24]['상세도로망_LinkID'].apply(lambda x : str(x)[:-2])\n",
    "f24_gt = files[24][files[24]['시간적범위'] == '전일']\n",
    "f24_gt = f24_gt.groupby(['link_id'])['혼잡빈도강도'].sum().reset_index()\n",
    "\n",
    "road_merged = files[22][['link_id','geometry']].merge(f24_gt,how = 'left')\n",
    "temp = gpd.sjoin(merged_df[['gid','geometry']],road_merged)\n",
    "temp = temp.groupby('gid')['혼잡빈도강도'].mean().reset_index()\n",
    "\n",
    "merged_df = merged_df.merge(temp,how = 'left')\n",
    "merged_df = merged_df.fillna(0)"
   ]
  },
  {
   "cell_type": "code",
   "execution_count": null,
   "metadata": {},
   "outputs": [],
   "source": [
    "#빈도강도랑 다소 연관성?\n",
    "temp = merged_df[merged_df['혼잡빈도강도']>0]\n",
    "temp = add_coordinates(temp)\n",
    "temp = add_minmax(temp,'혼잡빈도강도')\n",
    "cross_layer = pdk.Layer('PolygonLayer', data = temp,\n",
    "                           get_polygon = 'coordinates',\n",
    "                            get_fill_color = '[혼잡빈도강도,10,10,150]',\n",
    "                           pickable = True, auto_highlight = True)\n",
    "r = pdk.Deck(layers = [cross_layer,child_acc_layer],\n",
    "            initial_view_state = view_states,\n",
    "            map_style = 'mapbox://styles/mapbox/outdoors-v11',\n",
    "            mapbox_key = mapbox_key)\n",
    "#             tooltip = {'text':'단속구분:{단속구분}}'})\n",
    "# r.to_html()\n",
    "r.to_html(\"./output/혼잡빈도강도_grid.html\")"
   ]
  },
  {
   "cell_type": "code",
   "execution_count": null,
   "metadata": {},
   "outputs": [],
   "source": [
    "files[24]['link_id'] = files[24]['상세도로망_LinkID'].apply(lambda x : str(x)[:-2])\n",
    "f24_gt = files[24][files[24]['시간적범위'] == '전일']\n",
    "\n",
    "f24_gt = f24_gt.groupby(['link_id'])['혼잡빈도강도'].sum().reset_index()\n",
    "road_merged = road_merged.merge(f24_gt,how = 'left')\n",
    "road_merged['혼잡빈도강도'] = road_merged['혼잡빈도강도'].fillna(0)"
   ]
  },
  {
   "cell_type": "code",
   "execution_count": null,
   "metadata": {},
   "outputs": [],
   "source": [
    "temp = add_coordinates(road_merged)\n",
    "temp = add_minmax(temp, '혼잡빈도강도')\n",
    "cross_layer = pdk.Layer('PathLayer', data = temp,\n",
    "                        get_path = 'coordinates',\n",
    "                        get_width = '10',\n",
    "                        get_color = '[255, 255-200*minmax_value,,10]',\n",
    "                        pickable = True, highlight = True)\n",
    "r = pdk.Deck(layers = [cross_layer,child_acc_layer],\n",
    "            initial_view_state = view_states,\n",
    "            map_style = 'mapbox://styles/mapbox/outdoors-v11',\n",
    "            mapbox_key = mapbox_key,\n",
    "            tooltip = {'text':'전체 추정교통량:{전체 추정교통량}\\n승용차 추정교통량:{승용차 추정교통량}\\n버스 추정교통량:{버스 추정교통량}\\n화물차 추정교통량:{화물차 추정교통량}\\n혼잡빈도강도:{혼잡빈도강도}\\n accident_cnt: {accident_cnt}'})\n",
    "r.to_html(\"./output/혼잡빈도강도.html\")"
   ]
  },
  {
   "cell_type": "markdown",
   "metadata": {},
   "source": [
    "### 혼잡시간강도(비공개)"
   ]
  },
  {
   "cell_type": "code",
   "execution_count": null,
   "metadata": {},
   "outputs": [],
   "source": [
    "files[25].head(3)"
   ]
  },
  {
   "cell_type": "code",
   "execution_count": null,
   "metadata": {},
   "outputs": [],
   "source": [
    "#intersect and merge\n",
    "files[25]['link_id'] = files[25]['상세도로망_LinkID'].apply(lambda x : str(x)[:-2])\n",
    "f25_gt = files[25][files[25]['시간적범위'] == '전일']\n",
    "f25_gt = f25_gt.groupby(['link_id'])['혼잡시간강도'].sum().reset_index()\n",
    "\n",
    "road_merged = files[22][['link_id','geometry']].merge(f25_gt,how = 'left')\n",
    "temp = gpd.sjoin(merged_df[['gid','geometry']],road_merged)\n",
    "temp = temp.groupby('gid')['혼잡시간강도'].mean().reset_index()\n",
    "\n",
    "merged_df = merged_df.merge(temp,how = 'left')\n",
    "merged_df = merged_df.fillna(0)"
   ]
  },
  {
   "cell_type": "code",
   "execution_count": null,
   "metadata": {},
   "outputs": [],
   "source": [
    "#시간강도랑 다소 연관성?\n",
    "temp = merged_df[merged_df['혼잡시간강도']>0]\n",
    "temp = add_coordinates(temp)\n",
    "temp = add_minmax(temp,'혼잡시간강도')\n",
    "cross_layer = pdk.Layer('PolygonLayer', data = temp,\n",
    "                           get_polygon = 'coordinates',\n",
    "                            get_fill_color = '[혼잡시간강도,10,10,150]',\n",
    "                           pickable = True, auto_highlight = True)\n",
    "r = pdk.Deck(layers = [cross_layer,child_acc_layer],\n",
    "            initial_view_state = view_states,\n",
    "            map_style = 'mapbox://styles/mapbox/outdoors-v11',\n",
    "            mapbox_key = mapbox_key)\n",
    "#             tooltip = {'text':'단속구분:{단속구분}}'})\n",
    "# r.to_html()\n",
    "r.to_html(\"./output/혼잡시간강도_grid.html\")"
   ]
  },
  {
   "cell_type": "code",
   "execution_count": null,
   "metadata": {},
   "outputs": [],
   "source": [
    "files[25]['link_id'] = files[25]['상세도로망_LinkID'].apply(lambda x : str(x)[:-2])\n",
    "f25_gt = files[25][files[25]['시간적범위'] == '전일']\n",
    "\n",
    "f25_gt = f25_gt.groupby(['link_id'])['혼잡시간강도'].sum().reset_index()\n",
    "road_merged = road_merged.merge(f25_gt,how = 'left')\n",
    "road_merged['혼잡시간강도'] = road_merged['혼잡시간강도'].fillna(0)"
   ]
  },
  {
   "cell_type": "code",
   "execution_count": null,
   "metadata": {},
   "outputs": [],
   "source": [
    "temp = add_coordinates(road_merged)\n",
    "temp = add_minmax(temp, '혼잡시간강도')\n",
    "cross_layer = pdk.Layer('PathLayer', data = temp,\n",
    "                        get_path = 'coordinates',\n",
    "                        get_width = '10',\n",
    "                        get_color = '[255, 255-200*minmax_value,10]',\n",
    "                        pickable = True, auto_highlight = True)\n",
    "r = pdk.Deck(layers = [cross_layer,child_acc_layer],\n",
    "            initial_view_state = view_states,\n",
    "            map_style = 'mapbox://styles/mapbox/outdoors-v11',\n",
    "            mapbox_key = mapbox_key,\n",
    "            tooltip = {'text':'전체 추정교통량:{전체 추정교통량}\\n승용차 추정교통량:{승용차 추정교통량}\\n버스 추정교통량:{버스 추정교통량}\\n화물차 추정교통량:{화물차 추정교통량}\\n혼잡빈도강도:{혼잡빈도강도}\\n혼잡시간강도:{혼잡시간강도}\\n accident_cnt: {accident_cnt}'})\n",
    "r.to_html(\"./output/혼잡시간강도.html\")"
   ]
  },
  {
   "cell_type": "markdown",
   "metadata": {},
   "source": [
    "### 27.오산시_도로명주소_건물\n",
    "* BDTYP_CD(건물용도) : 01000-단독주택, 02000-공동주택, 03000-제1종근린생활시설, 04000-제2종근린생활시설 05000 - 문화및 집회시설 ..29000-장례식장까지\n",
    "* BULD_NM(건축물대장 건물명) : 60%이상 결측\n",
    "* BULD_NM_DC(상세건물명) : 88%이상 결측\n",
    "* BULD_SE_CD(건물구분코드) : 전부 0 \n",
    "* BUL_MAN_NO(건물일련번호 : 이상없음\n",
    "* EMD_CD(읍면동코드)\n",
    "* GRO_FLO_CO(지상층수)\n",
    "* LNBR_MNNM(지번본번)\n",
    "* LNBR_SLNO(지번부번)\n",
    "* UND_FLO_CO(지하층수)"
   ]
  },
  {
   "cell_type": "code",
   "execution_count": null,
   "metadata": {
    "ExecuteTime": {
     "end_time": "2021-01-04T08:36:23.450701Z",
     "start_time": "2021-01-04T08:36:23.446709Z"
    },
    "scrolled": true
   },
   "outputs": [],
   "source": [
    "files[26].shape"
   ]
  },
  {
   "cell_type": "code",
   "execution_count": null,
   "metadata": {
    "ExecuteTime": {
     "end_time": "2021-01-04T08:36:23.463704Z",
     "start_time": "2021-01-04T08:36:23.453702Z"
    }
   },
   "outputs": [],
   "source": [
    "files[26].head(3)"
   ]
  },
  {
   "cell_type": "markdown",
   "metadata": {},
   "source": [
    "#### 데이터일반확인"
   ]
  },
  {
   "cell_type": "code",
   "execution_count": null,
   "metadata": {
    "ExecuteTime": {
     "end_time": "2021-01-04T08:36:23.470706Z",
     "start_time": "2021-01-04T08:36:23.464705Z"
    }
   },
   "outputs": [],
   "source": [
    "print('BULD_NM 결측비율',files[26].BULD_NM.isna().sum()/files[27].shape[0])\n",
    "print('BULD_NM_DC 결측비율',files[26].BULD_NM_DC.isna().sum()/files[27].shape[0])"
   ]
  },
  {
   "cell_type": "code",
   "execution_count": null,
   "metadata": {
    "ExecuteTime": {
     "end_time": "2021-01-04T08:36:23.475707Z",
     "start_time": "2021-01-04T08:36:23.471706Z"
    }
   },
   "outputs": [],
   "source": [
    "#고유코드번호개수 확인\n",
    "files[26].BUL_MAN_NO.nunique() == files[26].shape[0]"
   ]
  },
  {
   "cell_type": "code",
   "execution_count": null,
   "metadata": {
    "ExecuteTime": {
     "end_time": "2021-01-04T08:36:23.481709Z",
     "start_time": "2021-01-04T08:36:23.476707Z"
    }
   },
   "outputs": [],
   "source": [
    "files[26]['floor'] = files[26]['UND_FLO_CO'] + files[26]['GRO_FLO_CO']"
   ]
  },
  {
   "cell_type": "code",
   "execution_count": null,
   "metadata": {
    "ExecuteTime": {
     "end_time": "2021-01-04T08:36:23.495711Z",
     "start_time": "2021-01-04T08:36:23.483709Z"
    }
   },
   "outputs": [],
   "source": [
    "#건물용도 대분류\n",
    "#grid에 주 건물용도를 넣을 방법은?\n",
    "bulid_type = pd.read_csv('./참고자료/BDTYP_CD(건물용도).csv',encoding= 'cp949')\n",
    "files[26]['nomal_code']= files[26]['BDTYP_CD'].apply(lambda x : int(x[:2]+'000'))\n",
    "\n",
    "bulid_type.columns = ['nomal_code','nomal_type']\n",
    "files[26]  = files[26].merge(bulid_type,how = 'left',on = 'nomal_code')"
   ]
  },
  {
   "cell_type": "code",
   "execution_count": null,
   "metadata": {
    "ExecuteTime": {
     "end_time": "2021-01-04T08:36:23.497712Z",
     "start_time": "2021-01-04T08:36:23.466Z"
    }
   },
   "outputs": [],
   "source": [
    "#상위 10개\n",
    "files[26].nomal_type.value_counts().sort_values(ascending = False).head(10)"
   ]
  },
  {
   "cell_type": "markdown",
   "metadata": {},
   "source": [
    "#### 시각화"
   ]
  },
  {
   "cell_type": "code",
   "execution_count": null,
   "metadata": {
    "ExecuteTime": {
     "end_time": "2021-01-04T08:36:23.497712Z",
     "start_time": "2021-01-04T08:36:23.470Z"
    }
   },
   "outputs": [],
   "source": [
    "files[26]['temp_count'] = 1\n",
    "f26_pivot = files[26].pivot_table(index='BUL_MAN_NO',columns = 'nomal_type',values= 'temp_count',aggfunc= 'sum')"
   ]
  },
  {
   "cell_type": "code",
   "execution_count": null,
   "metadata": {
    "ExecuteTime": {
     "end_time": "2021-01-04T08:36:23.498712Z",
     "start_time": "2021-01-04T08:36:23.475Z"
    }
   },
   "outputs": [],
   "source": [
    "#건물개수\n",
    "joined = merge_to_grid(files[26],files[1],'건물개수')\n",
    "merged_df = merged_df.merge(joined,how = 'left')"
   ]
  },
  {
   "cell_type": "code",
   "execution_count": null,
   "metadata": {
    "ExecuteTime": {
     "end_time": "2021-01-04T08:36:23.499712Z",
     "start_time": "2021-01-04T08:36:23.478Z"
    }
   },
   "outputs": [],
   "source": [
    "#건물문개수 연관성없음\n",
    "temp = merged_df[merged_df['건물개수']>0]\n",
    "temp = add_coordinates(temp)\n",
    "temp = add_minmax(temp,'건물개수')\n",
    "cross_layer = pdk.Layer('PolygonLayer', data = temp,\n",
    "                           get_polygon = 'coordinates',\n",
    "                            get_fill_color = '[10,255-200*minmax_value,10,150]',\n",
    "                           pickable = True, auto_highlight = True)\n",
    "r = pdk.Deck(layers = [cross_layer,child_acc_layer],\n",
    "            initial_view_state = view_states,\n",
    "            map_style = 'mapbox://styles/mapbox/outdoors-v11',\n",
    "            mapbox_key = mapbox_key)\n",
    "#             tooltip = {'text':'단속구분:{단속구분}}'})\n",
    "r.to_html(\"./output/건물개수_grid.html\")"
   ]
  },
  {
   "cell_type": "code",
   "execution_count": null,
   "metadata": {
    "ExecuteTime": {
     "end_time": "2021-01-04T08:36:23.500713Z",
     "start_time": "2021-01-04T08:36:23.482Z"
    }
   },
   "outputs": [],
   "source": [
    "#층수 (반복실행시 rename으로 인해 중복컬럼생성됨)\n",
    "joined = merge_to_grid(files[26],files[1],'floor')\n",
    "merged_df = merged_df.merge(joined,how = 'left')\n",
    "merged_df = merged_df.rename(columns={'floor':'총층수'})"
   ]
  },
  {
   "cell_type": "code",
   "execution_count": null,
   "metadata": {
    "ExecuteTime": {
     "end_time": "2021-01-04T08:36:23.500713Z",
     "start_time": "2021-01-04T08:36:23.485Z"
    },
    "scrolled": true
   },
   "outputs": [],
   "source": [
    "#총층수 연관성낮음 건물개수 대비 주거지역에서 진한편\n",
    "temp = merged_df[merged_df['총층수']>0]\n",
    "temp = add_coordinates(temp)\n",
    "temp = add_minmax(temp,'총층수')\n",
    "cross_layer = pdk.Layer('PolygonLayer', data = temp,\n",
    "                           get_polygon = 'coordinates',\n",
    "                            get_fill_color = '[10,255-220*minmax_value,10,150]',\n",
    "                           pickable = True, auto_highlight = True)\n",
    "r = pdk.Deck(layers = [cross_layer,child_acc_layer],\n",
    "            initial_view_state = view_states,\n",
    "            map_style = 'mapbox://styles/mapbox/outdoors-v11',\n",
    "            mapbox_key = mapbox_key)\n",
    "#             tooltip = {'text':'단속구분:{단속구분}}'})\n",
    "r.to_html(\"./output/floor_grid.html\")"
   ]
  },
  {
   "cell_type": "markdown",
   "metadata": {},
   "source": [
    "### 28.오산시_건물연면적_격자.geojson"
   ]
  },
  {
   "cell_type": "code",
   "execution_count": null,
   "metadata": {
    "ExecuteTime": {
     "end_time": "2021-01-04T08:56:28.672342Z",
     "start_time": "2021-01-04T08:56:28.664340Z"
    }
   },
   "outputs": [],
   "source": [
    "files[27].head(3)"
   ]
  },
  {
   "cell_type": "code",
   "execution_count": null,
   "metadata": {
    "ExecuteTime": {
     "end_time": "2021-01-04T08:56:21.295680Z",
     "start_time": "2021-01-04T08:56:21.291680Z"
    }
   },
   "outputs": [],
   "source": [
    "files[27].val = files[27].val.fillna(0)"
   ]
  },
  {
   "cell_type": "code",
   "execution_count": null,
   "metadata": {
    "ExecuteTime": {
     "end_time": "2021-01-04T08:54:41.449462Z",
     "start_time": "2021-01-04T08:54:41.442460Z"
    },
    "scrolled": true
   },
   "outputs": [],
   "source": [
    "joined = merge_to_grid(files[27],files[1],'val')\n",
    "merged_df = merged_df.merge(joined,how = 'left')\n",
    "merged_df = merged_df.rename(columns={'val':'건물연면적'})"
   ]
  },
  {
   "cell_type": "code",
   "execution_count": null,
   "metadata": {
    "ExecuteTime": {
     "end_time": "2021-01-04T08:54:42.247641Z",
     "start_time": "2021-01-04T08:54:42.238639Z"
    }
   },
   "outputs": [],
   "source": [
    "#일부(아파트지역)의 건물연면먹이 모든 그래프를 망침. 1500000이상 삭제 후 그래프 생성\n",
    "plt.boxplot(merged_df['건물연면적'],vert = False)\n",
    "plt.title('건물연면적 분포_box',fontproperties = fontprop, fontsize= 15)\n",
    "plt.yticks([])\n",
    "plt.box(False)\n",
    "plt.savefig('./output/건물연면적분포_box.png',bbox_inches='tight')\n",
    "plt.show()"
   ]
  },
  {
   "cell_type": "code",
   "execution_count": null,
   "metadata": {},
   "outputs": [],
   "source": [
    "#연면적이 큰지역보다 적은지역에서 사고가 많은듯하다\n",
    "temp = merged_df[merged_df['건물연면적']>0]\n",
    "temp = temp[temp['건물연면적']<150000] #아웃라이어제거\n",
    "temp = add_coordinates(temp)\n",
    "temp = add_minmax(temp,'건물연면적')\n",
    "cross_layer = pdk.Layer('PolygonLayer', data = temp,\n",
    "                           get_polygon = 'coordinates',\n",
    "                            get_fill_color = '[10,255-200*minmax_value,10,150]',\n",
    "                           pickable = True, auto_highlight = True)\n",
    "r = pdk.Deck(layers = [cross_layer,child_acc_layer],\n",
    "            initial_view_state = view_states,\n",
    "            map_style = 'mapbox://styles/mapbox/outdoors-v11',\n",
    "            mapbox_key = mapbox_key)\n",
    "#             tooltip = {'text':'단속구분:{단속구분}}'})\n",
    "r.to_html(\"./output/건물연면적.html\")"
   ]
  },
  {
   "cell_type": "markdown",
   "metadata": {},
   "source": [
    "### 29.오산시_체육시설현황.csv"
   ]
  },
  {
   "cell_type": "code",
   "execution_count": null,
   "metadata": {
    "ExecuteTime": {
     "end_time": "2021-01-04T08:32:47.832916Z",
     "start_time": "2021-01-04T08:32:47.822914Z"
    }
   },
   "outputs": [],
   "source": [
    "files[28].head(3)"
   ]
  },
  {
   "cell_type": "code",
   "execution_count": null,
   "metadata": {
    "ExecuteTime": {
     "end_time": "2021-01-04T08:53:56.786405Z",
     "start_time": "2021-01-04T08:53:56.780403Z"
    }
   },
   "outputs": [],
   "source": [
    "#체육도장\n",
    "files[28]['시설구분명'].value_counts()"
   ]
  },
  {
   "cell_type": "code",
   "execution_count": null,
   "metadata": {},
   "outputs": [],
   "source": [
    "joined = merge_to_grid(files[28],files[1],'체육시설수', lon = '설치위치_경도',lat = '설치위치_위도')\n",
    "merged_df = merged_df.merge(joined,how = 'left')"
   ]
  },
  {
   "cell_type": "code",
   "execution_count": null,
   "metadata": {},
   "outputs": [],
   "source": [
    "#버스정류장 연관성없음\n",
    "temp = merged_df[merged_df['체육시설수']>0]\n",
    "temp = add_coordinates(temp)\n",
    "cross_layer = pdk.Layer('PolygonLayer', data = temp,\n",
    "                           get_polygon = 'coordinates',\n",
    "                            get_fill_color = '[10,100*체육시설수,200,150]',\n",
    "                           pickable = True, auto_highlight = True)\n",
    "r = pdk.Deck(layers = [cross_layer,child_acc_layer],\n",
    "            initial_view_state = view_states,\n",
    "            map_style = 'mapbox://styles/mapbox/outdoors-v11',\n",
    "            mapbox_key = mapbox_key)\n",
    "#             tooltip = {'text':'단속구분:{단속구분}}'})\n",
    "r.to_html(\"./output/체육시설수.html\")"
   ]
  },
  {
   "cell_type": "markdown",
   "metadata": {},
   "source": [
    "### 30.오산시_학원_및_교습소_현황.csv\n",
    "* 교습과정명 종류 1120개-> 필요하다면 대분류필요할듯"
   ]
  },
  {
   "cell_type": "code",
   "execution_count": null,
   "metadata": {
    "ExecuteTime": {
     "end_time": "2021-01-04T08:56:55.997999Z",
     "start_time": "2021-01-04T08:56:55.991997Z"
    }
   },
   "outputs": [],
   "source": [
    "files[29].head(3)"
   ]
  },
  {
   "cell_type": "code",
   "execution_count": null,
   "metadata": {},
   "outputs": [],
   "source": [
    "files[29]['업종구분명'].value_counts()"
   ]
  },
  {
   "cell_type": "code",
   "execution_count": null,
   "metadata": {},
   "outputs": [],
   "source": [
    "files[29]['교습과정명'].value_counts()"
   ]
  },
  {
   "cell_type": "code",
   "execution_count": null,
   "metadata": {},
   "outputs": [],
   "source": [
    "joined = merge_to_grid(files[29],files[1],'학원수', lon = '시설위치_경도', lat = '시설위치_위도')\n",
    "merged_df = merged_df.merge(joined,how = 'left')"
   ]
  },
  {
   "cell_type": "code",
   "execution_count": null,
   "metadata": {},
   "outputs": [],
   "source": [
    "#학원밀집지역과 사고지역과 연관성이 있는듯 \n",
    "temp = merged_df[merged_df['학원수']>0]\n",
    "temp = add_coordinates(temp)\n",
    "temp = add_minmax(temp,'학원수')\n",
    "cross_layer = pdk.Layer('PolygonLayer', data = temp,\n",
    "                           get_polygon = 'coordinates',\n",
    "                            get_fill_color = '[10,255-200*minmax_value,10,150]',\n",
    "                           pickable = True, auto_highlight = True)\n",
    "r = pdk.Deck(layers = [cross_layer,child_acc_layer],\n",
    "            initial_view_state = view_states,\n",
    "            map_style = 'mapbox://styles/mapbox/outdoors-v11',\n",
    "            mapbox_key = mapbox_key)\n",
    "#             tooltip = {'text':'단속구분:{단속구분}}'})\n",
    "r.to_html(\"./output/학원수.html\")"
   ]
  },
  {
   "cell_type": "code",
   "execution_count": null,
   "metadata": {
    "ExecuteTime": {
     "end_time": "2021-01-04T08:58:26.322047Z",
     "start_time": "2021-01-04T08:58:26.304043Z"
    },
    "scrolled": true
   },
   "outputs": [],
   "source": [
    "files[30].head(3)"
   ]
  },
  {
   "cell_type": "markdown",
   "metadata": {},
   "source": [
    "### 34.지적도\n",
    "* 제외 지목 : ['묘','철','천','제','구','수']\n",
    "* '가'는 뭐지"
   ]
  },
  {
   "cell_type": "code",
   "execution_count": null,
   "metadata": {
    "ExecuteTime": {
     "end_time": "2021-01-04T08:57:31.253511Z",
     "start_time": "2021-01-04T08:57:31.246507Z"
    }
   },
   "outputs": [],
   "source": [
    "files[33].head(3)"
   ]
  },
  {
   "cell_type": "code",
   "execution_count": null,
   "metadata": {},
   "outputs": [],
   "source": [
    "files[33]['JIMOK'] = files[33]['JIBUN'].apply(lambda x: x[-1])"
   ]
  },
  {
   "cell_type": "code",
   "execution_count": null,
   "metadata": {},
   "outputs": [],
   "source": [
    "out_jimok = ['묘','철','천','제','구','수']\n",
    "f33 = files[33][~(files[33]['JIMOK'].isin(out_jimok))]"
   ]
  },
  {
   "cell_type": "code",
   "execution_count": null,
   "metadata": {},
   "outputs": [],
   "source": [
    "f1_over0 = files[1][files[1]['accident_cnt']>0]\n",
    "f33_joind = gpd.sjoin(f33,f1_over0,how = 'left')\n",
    "f33_joind_over0 = f33_joind[~(f33_joind['accident_cnt'].isna())]\n",
    "f33_joind_over0['JIMOK_label'] = encoder.fit_transform(f33_joind_over0['JIMOK'])"
   ]
  },
  {
   "cell_type": "code",
   "execution_count": null,
   "metadata": {},
   "outputs": [],
   "source": [
    "f33_joind_over0['JIMOK'].value_counts()"
   ]
  },
  {
   "cell_type": "code",
   "execution_count": null,
   "metadata": {},
   "outputs": [],
   "source": [
    "#랜덤컬러부여\n",
    "color_lookup = pdk.data_utils.assign_random_colors(f33_joind_over0['JIMOK'])\n",
    "f33_joind_over0['color'] = f33_joind_over0['JIMOK'].apply(lambda row: color_lookup.get(row))"
   ]
  },
  {
   "cell_type": "code",
   "execution_count": null,
   "metadata": {},
   "outputs": [],
   "source": [
    "#학원밀집지역과 사고지역과 연관성이 있는듯 \n",
    "# temp = merged_df[merged_df['학원수']>0]\n",
    "temp = add_coordinates(f33_joind_over0)\n",
    "# temp = add_minmax(temp,'학원수')\n",
    "\n",
    "#랜덤컬러\n",
    "\n",
    "color_lookup = pdk.data_utils.assign_random_colors(f33_joind_over0['JIMOK'])\n",
    "f33_joind_over0['color'] = f33_joind_over0['JIMOK'].apply(lambda row: color_lookup.get(row))\n",
    "\n",
    "cross_layer = pdk.Layer('PolygonLayer', data = temp,\n",
    "                           get_polygon = 'coordinates',\n",
    "                            get_fill_color = 'color',\n",
    "                           pickable = True, auto_highlight = True)\n",
    "\n",
    "r = pdk.Deck(layers = [cross_layer,child_acc_layer],\n",
    "            initial_view_state = view_states,\n",
    "            map_style = 'mapbox://styles/mapbox/outdoors-v11',\n",
    "            mapbox_key = mapbox_key)\n",
    "#             tooltip = {'text':'단속구분:{단속구분}}'})\n",
    "r.to_html(\"./output/지적도.html\")"
   ]
  },
  {
   "cell_type": "code",
   "execution_count": null,
   "metadata": {},
   "outputs": [],
   "source": [
    "#시경계\n",
    "f30 = add_coordinates(files[30])\n",
    "osan_line_layer = pdk.Layer('PolygonLayer', data = f30,\n",
    "                           get_polygon = 'coordinates',\n",
    "                           get_fill_color = [255,255,255,0],\n",
    "                           get_line_color = [0,0,0],\n",
    "                           get_line_width = 10,\n",
    "                           pickable=True)\n",
    "r = pdk.Deck(layers = [osan_line_layer],\n",
    "            initial_view_state = view_states,\n",
    "            map_style = 'mapbox://styles/mapbox/outdoors-v11',\n",
    "            mapbox_key = mapbox_key)\n",
    "r.to_html(\"시경계.html\")"
   ]
  }
 ],
 "metadata": {
  "kernelspec": {
   "display_name": "Python 3",
   "language": "python",
   "name": "python3"
  },
  "language_info": {
   "codemirror_mode": {
    "name": "ipython",
    "version": 3
   },
   "file_extension": ".py",
   "mimetype": "text/x-python",
   "name": "python",
   "nbconvert_exporter": "python",
   "pygments_lexer": "ipython3",
   "version": "3.6.5"
  },
  "toc": {
   "base_numbering": 1,
   "nav_menu": {},
   "number_sections": true,
   "sideBar": true,
   "skip_h1_title": false,
   "title_cell": "Table of Contents",
   "title_sidebar": "Contents",
   "toc_cell": false,
   "toc_position": {},
   "toc_section_display": true,
   "toc_window_display": false
  },
  "varInspector": {
   "cols": {
    "lenName": 16,
    "lenType": 16,
    "lenVar": 40
   },
   "kernels_config": {
    "python": {
     "delete_cmd_postfix": "",
     "delete_cmd_prefix": "del ",
     "library": "var_list.py",
     "varRefreshCmd": "print(var_dic_list())"
    },
    "r": {
     "delete_cmd_postfix": ") ",
     "delete_cmd_prefix": "rm(",
     "library": "var_list.r",
     "varRefreshCmd": "cat(var_dic_list()) "
    }
   },
   "types_to_exclude": [
    "module",
    "function",
    "builtin_function_or_method",
    "instance",
    "_Feature"
   ],
   "window_display": false
  }
 },
 "nbformat": 4,
 "nbformat_minor": 2
}
